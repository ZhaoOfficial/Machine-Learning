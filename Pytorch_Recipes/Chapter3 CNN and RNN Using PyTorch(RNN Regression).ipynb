{
 "cells": [
  {
   "cell_type": "markdown",
   "id": "f814e73b",
   "metadata": {},
   "source": [
    "# CHAPTER 3\n",
    "CNN and RNN Using PyTorch"
   ]
  },
  {
   "cell_type": "code",
   "execution_count": 1,
   "id": "6468f3e4",
   "metadata": {},
   "outputs": [],
   "source": [
    "import torch\n",
    "import sklearn\n",
    "import torch.nn as nn\n",
    "from torch.autograd import Variable\n",
    "from torch.utils.data import DataLoader\n",
    "import torchvision\n",
    "import numpy as np\n",
    "import matplotlib.pyplot as plt\n",
    "\n",
    "torch.manual_seed(1)\n",
    "\n",
    "TIME_STEP = 10\n",
    "INPUT_SIZE = 1\n",
    "EPOCH = 60\n",
    "LEARNING_RATE = 0.02"
   ]
  },
  {
   "cell_type": "markdown",
   "id": "95d7ee01",
   "metadata": {},
   "source": [
    "## Recipe 3-9. Implementing a RNN for Regression Problems"
   ]
  },
  {
   "cell_type": "code",
   "execution_count": 2,
   "id": "302d3b1e",
   "metadata": {},
   "outputs": [
    {
     "data": {
      "image/png": "[encoded data removed]",
      "text/plain": [
       "<Figure size 432x288 with 1 Axes>"
      ]
     },
     "metadata": {
      "needs_background": "light"
     },
     "output_type": "display_data"
    }
   ],
   "source": [
    "t = np.linspace(0, 2 * np.pi, 100, dtype=float)\n",
    "x = np.sin(t)\n",
    "y = np.cos(t)\n",
    "plt.plot(t, y, 'r-', label='y=cos(t)')\n",
    "plt.plot(t, x, 'b-', label='x=sin(t)')\n",
    "plt.legend(loc='best')\n",
    "plt.show()"
   ]
  },
  {
   "cell_type": "markdown",
   "id": "45c32cfe",
   "metadata": {},
   "source": [
    "Here we use nonlinear periodical pattern between I/O data.\n",
    "\n",
    "Time step means that the last 10 values predict the current value and the rolling happens after that."
   ]
  },
  {
   "cell_type": "markdown",
   "id": "dd57d8d3",
   "metadata": {},
   "source": [
    "## Recipe 3-10. Using PyTorch Built-in Functions"
   ]
  },
  {
   "cell_type": "code",
   "execution_count": 3,
   "id": "d81c2035",
   "metadata": {},
   "outputs": [],
   "source": [
    "class RNN(nn.Module):\n",
    "    def __init__(self):\n",
    "        super(RNN, self).__init__()\n",
    "        \n",
    "        self.rnn = nn.RNN(\n",
    "            input_size = INPUT_SIZE,\n",
    "            hidden_size = 32,\n",
    "            num_layers = 1,\n",
    "            batch_first = True\n",
    "        )\n",
    "        self.out = nn.Linear(32, 1)\n",
    "        \n",
    "    def forward(self, x, h_state):\n",
    "        # x.shape = (BATCH_SIZE, TIME_STEP, INPUT_SIZE)\n",
    "        # h_state.shape = (n_layers, BATCH_SIZE, hidden_size)\n",
    "        # r_out.shape = (BATCH_SIZE, TIME_STEP, hidden_size)\n",
    "        r_out, h_state = self.rnn(x, h_state)\n",
    "        \n",
    "        # save all predictions\n",
    "        outs = []\n",
    "        for time_step in range(r_out.shape[1]):\n",
    "            outs.append(self.out(r_out[:, time_step, :]))\n",
    "        return torch.stack(outs, axis=1), h_state"
   ]
  },
  {
   "cell_type": "code",
   "execution_count": 4,
   "id": "aaee566e",
   "metadata": {},
   "outputs": [
    {
     "name": "stdout",
     "output_type": "stream",
     "text": [
      "RNN(\n",
      "  (rnn): RNN(1, 32, batch_first=True)\n",
      "  (out): Linear(in_features=32, out_features=1, bias=True)\n",
      ")\n"
     ]
    },
    {
     "data": {
      "text/plain": [
       "<Figure size 864x360 with 0 Axes>"
      ]
     },
     "metadata": {},
     "output_type": "display_data"
    }
   ],
   "source": [
    "rnn = RNN()\n",
    "print(rnn)\n",
    "optimizer = torch.optim.Adam(rnn.parameters(), lr=LEARNING_RATE)\n",
    "loss_fn = nn.MSELoss()\n",
    "# for initial hidden state\n",
    "h_state = None\n",
    "plt.figure(1, figsize=(12, 5))\n",
    "plt.ion()"
   ]
  },
  {
   "cell_type": "code",
   "execution_count": null,
   "id": "7316e3b6",
   "metadata": {},
   "outputs": [],
   "source": []
  }
 ],
 "metadata": {
  "kernelspec": {
   "display_name": "pytorch",
   "language": "python",
   "name": "pytorch"
  },
  "language_info": {
   "codemirror_mode": {
    "name": "ipython",
    "version": 3
   },
   "file_extension": ".py",
   "mimetype": "text/x-python",
   "name": "python",
   "nbconvert_exporter": "python",
   "pygments_lexer": "ipython3",
   "version": "3.9.5"
  }
 },
 "nbformat": 4,
 "nbformat_minor": 5
}
