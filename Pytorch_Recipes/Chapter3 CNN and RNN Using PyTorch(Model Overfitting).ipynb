{
 "cells": [
  {
   "cell_type": "markdown",
   "id": "c40a4a2a",
   "metadata": {},
   "source": [
    "# CHAPTER 3\n",
    "CNN and RNN Using PyTorch"
   ]
  },
  {
   "cell_type": "code",
   "execution_count": 1,
   "id": "9443394a",
   "metadata": {},
   "outputs": [],
   "source": [
    "import torch\n",
    "import sklearn\n",
    "import torch.nn as nn\n",
    "from torch.autograd import Variable\n",
    "import matplotlib.pyplot as plt\n",
    "\n",
    "torch.manual_seed(1)\n",
    "\n",
    "N_SAMPLES = 20\n",
    "N_HIDDEN = 300"
   ]
  },
  {
   "cell_type": "markdown",
   "id": "d8058fba",
   "metadata": {},
   "source": [
    "## Recipe 3-14. Restricting Model Overfitting Problem\n",
    "To restrict model overfitting, we consciously introduce dropout rate, which means randomly delete (let’s say) 10% or 20% of the weights in the network, and check the model accuracy at the same time. If we are able to match the same model accuracy after deleting the 10% or 20% of the weights, then our model is good."
   ]
  },
  {
   "cell_type": "code",
   "execution_count": 2,
   "id": "a375ac9c",
   "metadata": {},
   "outputs": [
    {
     "data": {
      "image/png": "[encoded data removed]",
      "text/plain": [
       "<Figure size 432x288 with 1 Axes>"
      ]
     },
     "metadata": {
      "needs_background": "light"
     },
     "output_type": "display_data"
    }
   ],
   "source": [
    "# training data\n",
    "x = torch.unsqueeze(torch.linspace(-1, 1, N_SAMPLES), 1)\n",
    "y = x + 0.3 * torch.normal(\n",
    "    torch.zeros(N_SAMPLES, 1), torch.ones(N_SAMPLES, 1)\n",
    ")\n",
    "x, y = Variable(x), Variable(y)\n",
    "\n",
    "# testing data\n",
    "test_x = torch.unsqueeze(torch.linspace(-1, 1, N_SAMPLES), 1)\n",
    "test_y = test_x + 0.3 * torch.normal(\n",
    "    torch.zeros(N_SAMPLES, 1), torch.ones(N_SAMPLES, 1)\n",
    ")\n",
    "test_x, test_y = Variable(test_x), Variable(test_y)\n",
    "\n",
    "plt.scatter(x, y, c='magenta', s=50, alpha=0.5, label='train')\n",
    "plt.scatter(test_x, test_y, c='cyan', s=50, alpha=0.5, label='test')\n",
    "plt.legend()\n",
    "plt.show()"
   ]
  },
  {
   "cell_type": "code",
   "execution_count": 7,
   "id": "dc5b0595",
   "metadata": {},
   "outputs": [
    {
     "name": "stdout",
     "output_type": "stream",
     "text": [
      "Sequential(\n",
      "  (0): Linear(in_features=1, out_features=300, bias=True)\n",
      "  (1): ReLU()\n",
      "  (2): Linear(in_features=300, out_features=300, bias=True)\n",
      "  (3): ReLU()\n",
      "  (4): Linear(in_features=300, out_features=1, bias=True)\n",
      ")\n",
      "Sequential(\n",
      "  (0): Linear(in_features=1, out_features=300, bias=True)\n",
      "  (1): Dropout(p=0.5, inplace=False)\n",
      "  (2): ReLU()\n",
      "  (3): Linear(in_features=300, out_features=300, bias=True)\n",
      "  (4): Dropout(p=0.5, inplace=False)\n",
      "  (5): ReLU()\n",
      "  (6): Linear(in_features=300, out_features=1, bias=True)\n",
      ")\n"
     ]
    }
   ],
   "source": [
    "net_overfit = nn.Sequential(\n",
    "    nn.Linear(1, N_HIDDEN),\n",
    "    nn.ReLU(),\n",
    "    nn.Linear(N_HIDDEN, N_HIDDEN),\n",
    "    nn.ReLU(),\n",
    "    nn.Linear(N_HIDDEN, 1)\n",
    ")\n",
    "net_drop = nn.Sequential(\n",
    "    nn.Linear(1, N_HIDDEN),\n",
    "    nn.Dropout(0.5),\n",
    "    nn.ReLU(),\n",
    "    nn.Linear(N_HIDDEN, N_HIDDEN),\n",
    "    nn.Dropout(0.5),\n",
    "    nn.ReLU(),\n",
    "    nn.Linear(N_HIDDEN, 1)\n",
    ")\n",
    "print(net_overfit)\n",
    "print(net_drop)"
   ]
  },
  {
   "cell_type": "code",
   "execution_count": 8,
   "id": "b0c1d2ef",
   "metadata": {},
   "outputs": [],
   "source": [
    "optimizer_overfit = torch.optim.Adam(net_overfit.parameters(), lr=0.01)\n",
    "optimizer_drop = torch.optim.Adam(net_drop.parameters(), lr=0.01)\n",
    "loss_fn = nn.MSELoss()"
   ]
  },
  {
   "cell_type": "markdown",
   "id": "47df4826",
   "metadata": {},
   "source": [
    "## Recipe 3-15. Visualizing the Model OverfitProblem"
   ]
  },
  {
   "cell_type": "code",
   "execution_count": null,
   "id": "eb506675",
   "metadata": {},
   "outputs": [],
   "source": []
  },
  {
   "cell_type": "code",
   "execution_count": null,
   "id": "6b6ddbd0",
   "metadata": {},
   "outputs": [],
   "source": []
  },
  {
   "cell_type": "code",
   "execution_count": null,
   "id": "76014fe2",
   "metadata": {},
   "outputs": [],
   "source": []
  },
  {
   "cell_type": "code",
   "execution_count": 3,
   "id": "5b5a0677",
   "metadata": {},
   "outputs": [
    {
     "name": "stdout",
     "output_type": "stream",
     "text": [
      "XOR(\n",
      "  (net): Sequential(\n",
      "    (0): Linear(in_features=2, out_features=4, bias=True)\n",
      "    (1): ReLU()\n",
      "    (2): Linear(in_features=4, out_features=8, bias=True)\n",
      "    (3): ReLU()\n",
      "    (4): Linear(in_features=8, out_features=1, bias=True)\n",
      "  )\n",
      ")\n",
      "tensor([[-0.0024],\n",
      "        [ 0.4993],\n",
      "        [ 1.0002],\n",
      "        [ 0.4993]], grad_fn=<AddmmBackward>)\n"
     ]
    }
   ],
   "source": [
    "x = torch.tensor([[1, 1], [1, 0], [0, 1], [0, 0]], dtype=torch.float)\n",
    "y = torch.tensor([[0], [1], [1], [0]], dtype=torch.float)\n",
    "class XOR(nn.Module):\n",
    "    def __init__(self):\n",
    "        super(XOR, self).__init__()\n",
    "        \n",
    "        self.net = nn.Sequential(\n",
    "            nn.Linear(2, 4),\n",
    "            nn.ReLU(),\n",
    "            nn.Linear(4, 8),\n",
    "            nn.ReLU(),\n",
    "            nn.Linear(8, 1)\n",
    "        )\n",
    "        \n",
    "    def forward(self, x):\n",
    "        out = self.net(x)\n",
    "        return out\n",
    "        \n",
    "xor = XOR()\n",
    "print(xor)\n",
    "optimizer = torch.optim.Adam(xor.parameters(), lr=0.05)\n",
    "loss_fn = nn.MSELoss()\n",
    "\n",
    "for epoch in range(100):\n",
    "    y_pred = xor(x)\n",
    "    loss = loss_fn(y_pred, y)\n",
    "    optimizer.zero_grad()\n",
    "    loss.backward()\n",
    "    optimizer.step()\n",
    "y_pred = xor(x)\n",
    "print(y_pred)"
   ]
  }
 ],
 "metadata": {
  "kernelspec": {
   "display_name": "pytorch",
   "language": "python",
   "name": "pytorch"
  },
  "language_info": {
   "codemirror_mode": {
    "name": "ipython",
    "version": 3
   },
   "file_extension": ".py",
   "mimetype": "text/x-python",
   "name": "python",
   "nbconvert_exporter": "python",
   "pygments_lexer": "ipython3",
   "version": "3.9.5"
  }
 },
 "nbformat": 4,
 "nbformat_minor": 5
}
