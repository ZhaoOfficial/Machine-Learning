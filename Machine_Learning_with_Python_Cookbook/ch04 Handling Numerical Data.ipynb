{
 "cells": [
  {
   "cell_type": "markdown",
   "metadata": {},
   "source": [
    "# Chapter 4 Handling Numerical Data"
   ]
  },
  {
   "cell_type": "code",
   "execution_count": 1,
   "metadata": {
    "scrolled": false
   },
   "outputs": [],
   "source": [
    "from IPython.core.interactiveshell import InteractiveShell\n",
    "InteractiveShell.ast_node_interactivity = 'all'\n",
    "\n",
    "import numpy as np\n",
    "import pandas as pd\n",
    "import matplotlib.pyplot as plt\n",
    "from sklearn import preprocessing\n",
    "from sklearn import covariance\n",
    "from sklearn import datasets\n",
    "from sklearn import cluster\n",
    "from sklearn import impute\n",
    "from sklearn import impute"
   ]
  },
  {
   "cell_type": "markdown",
   "metadata": {},
   "source": [
    "## 4.1 Rescaling a Feature\n",
    "Min-max scaling uses the minimum and maximum:\n",
    "$$x'_i=\\frac{x_i-\\min(x)}{\\max(x)-\\min(x)}\\cdot(range_{max}-range_{min})+range_{min}$$"
   ]
  },
  {
   "cell_type": "code",
   "execution_count": 2,
   "metadata": {},
   "outputs": [
    {
     "data": {
      "text/plain": [
       "array([[ 1.        ],\n",
       "       [ 3.8551035 ],\n",
       "       [ 4.56959315],\n",
       "       [ 5.2840828 ],\n",
       "       [11.        ]])"
      ]
     },
     "execution_count": 2,
     "metadata": {},
     "output_type": "execute_result"
    }
   ],
   "source": [
    "# create a feature\n",
    "feature = np.array([[-500.1], [-100.1], [0], [100.1], [900.9]])\n",
    "# create scaler\n",
    "minmax_scale = preprocessing.MinMaxScaler(feature_range=(1, 11))\n",
    "minmax_scale.fit_transform(feature)"
   ]
  },
  {
   "cell_type": "markdown",
   "metadata": {},
   "source": [
    "## 4.2 Standardizing a Feature"
   ]
  },
  {
   "cell_type": "code",
   "execution_count": 3,
   "metadata": {},
   "outputs": [
    {
     "data": {
      "text/plain": [
       "array([[-0.76058269],\n",
       "       [-0.54177196],\n",
       "       [-0.35009716],\n",
       "       [-0.32271504],\n",
       "       [ 1.97516685]])"
      ]
     },
     "execution_count": 3,
     "metadata": {},
     "output_type": "execute_result"
    },
    {
     "name": "stdout",
     "output_type": "stream",
     "text": [
      "mean(feature) = 1780.3399999999997\n",
      "std(feature) = 3655.6709067420165\n",
      "scaler * std + mean =\n",
      " [[-1000.1]\n",
      " [ -200.2]\n",
      " [  500.5]\n",
      " [  600.6]\n",
      " [ 9000.9]]\n"
     ]
    },
    {
     "data": {
      "text/plain": [
       "array([[-1.87387612],\n",
       "       [-0.875     ],\n",
       "       [ 0.        ],\n",
       "       [ 0.125     ],\n",
       "       [10.61488511]])"
      ]
     },
     "execution_count": 3,
     "metadata": {},
     "output_type": "execute_result"
    }
   ],
   "source": [
    "feature = np.array([[-1000.1], [-200.2], [500.5], [600.6], [9000.9]])\n",
    "scaler = preprocessing.StandardScaler()\n",
    "scaler.fit_transform(feature)\n",
    "print(\"mean(feature) =\", np.mean(feature))\n",
    "print(\"std(feature) =\", np.std(feature))\n",
    "print(\"scaler * std + mean =\\n\", scaler.fit_transform(feature) * np.std(feature) + np.mean(feature))\n",
    "# if data has significant outliers\n",
    "robust_scaler = preprocessing.RobustScaler()\n",
    "robust_scaler.fit_transform(feature)"
   ]
  },
  {
   "cell_type": "markdown",
   "metadata": {},
   "source": [
    "## 4.3 Normalizing Observations\n",
    "It rescales the values on individual observations to have unit form\n",
    "$$\\mathbf{x}'_i=\\frac{\\mathbf{x}_i}{\\|\\mathbf{x}_i\\|_n}$$\n",
    "with $L_n$ norm:\n",
    "$$\\|\\mathbf{x}_i\\|_n=(\\sum_{i=1}^{m}x_i^n)^{\\frac{1}{n}}$$"
   ]
  },
  {
   "cell_type": "code",
   "execution_count": 4,
   "metadata": {},
   "outputs": [
    {
     "data": {
      "text/plain": [
       "array([[0.70710678, 0.70710678],\n",
       "       [0.30782029, 0.95144452],\n",
       "       [0.07405353, 0.99725427],\n",
       "       [0.04733062, 0.99887928],\n",
       "       [0.95709822, 0.28976368]])"
      ]
     },
     "execution_count": 4,
     "metadata": {},
     "output_type": "execute_result"
    },
    {
     "data": {
      "text/plain": [
       "array([[0.5       , 0.5       ],\n",
       "       [0.24444444, 0.75555556],\n",
       "       [0.06912442, 0.93087558],\n",
       "       [0.04524008, 0.95475992],\n",
       "       [0.76760563, 0.23239437]])"
      ]
     },
     "execution_count": 4,
     "metadata": {},
     "output_type": "execute_result"
    }
   ],
   "source": [
    "feature = np.array([[0.5, 0.5], [1.1, 3.4], [1.5, 20.2], [1.63, 34.4], [10.9, 3.3]])\n",
    "normalizer = preprocessing.Normalizer(norm=\"l2\")\n",
    "normalizer.transform(feature)\n",
    "normalizer = preprocessing.Normalizer(norm=\"l1\")\n",
    "normalizer.transform(feature)"
   ]
  },
  {
   "cell_type": "markdown",
   "metadata": {},
   "source": [
    "## 4.4 Generating Polynomial and Interaction Features\n",
    "`degree=2` will create $x_1, \\dots, x_n, x_1^2, x_1x_2, \\dots, x_1x_n, x_2^2, x_2x_3, \\dots, x_2x_n, \\dots, x_n^2$\n",
    "\n",
    "`degree=3` will create more\n"
   ]
  },
  {
   "cell_type": "code",
   "execution_count": 5,
   "metadata": {},
   "outputs": [
    {
     "data": {
      "text/plain": [
       "array([[  1.,   2.,   3.,   1.,   2.,   3.,   4.,   6.,   9.,   1.,   2.,\n",
       "          3.,   4.,   6.,   9.,   8.,  12.,  18.,  27.],\n",
       "       [  2.,   3.,   4.,   4.,   6.,   8.,   9.,  12.,  16.,   8.,  12.,\n",
       "         16.,  18.,  24.,  32.,  27.,  36.,  48.,  64.],\n",
       "       [  3.,   4.,   5.,   9.,  12.,  15.,  16.,  20.,  25.,  27.,  36.,\n",
       "         45.,  48.,  60.,  75.,  64.,  80., 100., 125.]])"
      ]
     },
     "execution_count": 5,
     "metadata": {},
     "output_type": "execute_result"
    },
    {
     "data": {
      "text/plain": [
       "array([[ 1.,  2.,  3.,  2.,  3.,  6.,  6.],\n",
       "       [ 2.,  3.,  4.,  6.,  8., 12., 24.],\n",
       "       [ 3.,  4.,  5., 12., 15., 20., 60.]])"
      ]
     },
     "execution_count": 5,
     "metadata": {},
     "output_type": "execute_result"
    },
    {
     "data": {
      "text/plain": [
       "array([[  1.,   1.,   2.,   3.,   1.,   2.,   3.,   4.,   6.,   9.,   1.,\n",
       "          2.,   3.,   4.,   6.,   9.,   8.,  12.,  18.,  27.],\n",
       "       [  1.,   2.,   3.,   4.,   4.,   6.,   8.,   9.,  12.,  16.,   8.,\n",
       "         12.,  16.,  18.,  24.,  32.,  27.,  36.,  48.,  64.],\n",
       "       [  1.,   3.,   4.,   5.,   9.,  12.,  15.,  16.,  20.,  25.,  27.,\n",
       "         36.,  45.,  48.,  60.,  75.,  64.,  80., 100., 125.]])"
      ]
     },
     "execution_count": 5,
     "metadata": {},
     "output_type": "execute_result"
    }
   ],
   "source": [
    "feature = np.array([[1, 2, 3], [2, 3, 4], [3, 4, 5]])\n",
    "polynomial_interaction = preprocessing.PolynomialFeatures(degree=3, include_bias=False)\n",
    "polynomial_interaction.fit_transform(feature)\n",
    "# presever only interaction term\n",
    "polynomial_interaction = preprocessing.PolynomialFeatures(degree=3, interaction_only=True, include_bias=False)\n",
    "polynomial_interaction.fit_transform(feature)\n",
    "# add x^0 = 1\n",
    "polynomial_interaction = preprocessing.PolynomialFeatures(degree=3, include_bias=True)\n",
    "polynomial_interaction.fit_transform(feature)"
   ]
  },
  {
   "cell_type": "markdown",
   "metadata": {},
   "source": [
    "## 4.5 Transforming Features"
   ]
  },
  {
   "cell_type": "code",
   "execution_count": 6,
   "metadata": {},
   "outputs": [
    {
     "data": {
      "text/plain": [
       "array([[0.        , 0.69314718, 1.09861229],\n",
       "       [0.69314718, 1.09861229, 1.38629436],\n",
       "       [1.09861229, 1.38629436, 1.60943791]])"
      ]
     },
     "execution_count": 6,
     "metadata": {},
     "output_type": "execute_result"
    }
   ],
   "source": [
    "add_10 = lambda x: np.log(x)\n",
    "ten_transformer = preprocessing.FunctionTransformer(add_10)\n",
    "ten_transformer.transform(feature)"
   ]
  },
  {
   "cell_type": "markdown",
   "metadata": {},
   "source": [
    "## 4.6 Detecting Outliers"
   ]
  },
  {
   "cell_type": "code",
   "execution_count": 7,
   "metadata": {},
   "outputs": [
    {
     "data": {
      "text/plain": [
       "EllipticEnvelope()"
      ]
     },
     "execution_count": 7,
     "metadata": {},
     "output_type": "execute_result"
    },
    {
     "data": {
      "text/plain": [
       "array([-1,  1,  1,  1,  1,  1,  1,  1,  1,  1])"
      ]
     },
     "execution_count": 7,
     "metadata": {},
     "output_type": "execute_result"
    },
    {
     "name": "stdout",
     "output_type": "stream",
     "text": [
      "iqr = 1.6112827796988223\n"
     ]
    },
    {
     "data": {
      "text/plain": [
       "(array([0], dtype=int64),)"
      ]
     },
     "execution_count": 7,
     "metadata": {},
     "output_type": "execute_result"
    }
   ],
   "source": [
    "feature, _ = datasets.make_blobs(n_samples=10,\n",
    "                                 n_features=2,\n",
    "                                 centers=1,\n",
    "                                 random_state=1)\n",
    "# replace with extreme values\n",
    "feature[0, 0] = 10000\n",
    "feature[0, 1] = 10000\n",
    "# detector\n",
    "# contamination is the proportion of observations that are outliers\n",
    "# we don't know and we need guess\n",
    "outlier_detector = covariance.EllipticEnvelope(contamination=0.1)\n",
    "outlier_detector.fit(feature)\n",
    "outlier_detector.predict(feature)\n",
    "\n",
    "# using interquartile range(IQR)\n",
    "feature = feature[:, 0]\n",
    "# functions that returns outliers\n",
    "def indicies_of_outliers(x):\n",
    "    # the 25% data and the 75% data\n",
    "    q1, q3 = np.percentile(x, [25, 75])\n",
    "    # gaps between them\n",
    "    iqr = q3 - q1\n",
    "    print(\"iqr = {}\".format(iqr))\n",
    "    # set bound\n",
    "    lower_bound = q1 - (iqr * 1.5)\n",
    "    upper_bound = q3 + (iqr * 1.5)\n",
    "    return np.where((x < lower_bound) | (x > upper_bound))\n",
    "indicies_of_outliers(feature)"
   ]
  },
  {
   "cell_type": "markdown",
   "metadata": {},
   "source": [
    "## 4.7 Handling Outliers"
   ]
  },
  {
   "cell_type": "code",
   "execution_count": 8,
   "metadata": {},
   "outputs": [
    {
     "data": {
      "text/html": [
       "<div>\n",
       "<style scoped>\n",
       "    .dataframe tbody tr th:only-of-type {\n",
       "        vertical-align: middle;\n",
       "    }\n",
       "\n",
       "    .dataframe tbody tr th {\n",
       "        vertical-align: top;\n",
       "    }\n",
       "\n",
       "    .dataframe thead th {\n",
       "        text-align: right;\n",
       "    }\n",
       "</style>\n",
       "<table border=\"1\" class=\"dataframe\">\n",
       "  <thead>\n",
       "    <tr style=\"text-align: right;\">\n",
       "      <th></th>\n",
       "      <th>Price</th>\n",
       "      <th>Bathrooms</th>\n",
       "      <th>Square_feet</th>\n",
       "    </tr>\n",
       "  </thead>\n",
       "  <tbody>\n",
       "    <tr>\n",
       "      <th>0</th>\n",
       "      <td>543434</td>\n",
       "      <td>2</td>\n",
       "      <td>1500</td>\n",
       "    </tr>\n",
       "    <tr>\n",
       "      <th>1</th>\n",
       "      <td>395662</td>\n",
       "      <td>3</td>\n",
       "      <td>2500</td>\n",
       "    </tr>\n",
       "    <tr>\n",
       "      <th>2</th>\n",
       "      <td>328646</td>\n",
       "      <td>2</td>\n",
       "      <td>1500</td>\n",
       "    </tr>\n",
       "  </tbody>\n",
       "</table>\n",
       "</div>"
      ],
      "text/plain": [
       "    Price  Bathrooms  Square_feet\n",
       "0  543434          2         1500\n",
       "1  395662          3         2500\n",
       "2  328646          2         1500"
      ]
     },
     "execution_count": 8,
     "metadata": {},
     "output_type": "execute_result"
    },
    {
     "data": {
      "text/html": [
       "<div>\n",
       "<style scoped>\n",
       "    .dataframe tbody tr th:only-of-type {\n",
       "        vertical-align: middle;\n",
       "    }\n",
       "\n",
       "    .dataframe tbody tr th {\n",
       "        vertical-align: top;\n",
       "    }\n",
       "\n",
       "    .dataframe thead th {\n",
       "        text-align: right;\n",
       "    }\n",
       "</style>\n",
       "<table border=\"1\" class=\"dataframe\">\n",
       "  <thead>\n",
       "    <tr style=\"text-align: right;\">\n",
       "      <th></th>\n",
       "      <th>Price</th>\n",
       "      <th>Bathrooms</th>\n",
       "      <th>Square_feet</th>\n",
       "      <th>Outlier</th>\n",
       "    </tr>\n",
       "  </thead>\n",
       "  <tbody>\n",
       "    <tr>\n",
       "      <th>0</th>\n",
       "      <td>543434</td>\n",
       "      <td>2</td>\n",
       "      <td>1500</td>\n",
       "      <td>0</td>\n",
       "    </tr>\n",
       "    <tr>\n",
       "      <th>1</th>\n",
       "      <td>395662</td>\n",
       "      <td>3</td>\n",
       "      <td>2500</td>\n",
       "      <td>0</td>\n",
       "    </tr>\n",
       "    <tr>\n",
       "      <th>2</th>\n",
       "      <td>328646</td>\n",
       "      <td>2</td>\n",
       "      <td>1500</td>\n",
       "      <td>0</td>\n",
       "    </tr>\n",
       "    <tr>\n",
       "      <th>3</th>\n",
       "      <td>4852154</td>\n",
       "      <td>116</td>\n",
       "      <td>48000</td>\n",
       "      <td>1</td>\n",
       "    </tr>\n",
       "  </tbody>\n",
       "</table>\n",
       "</div>"
      ],
      "text/plain": [
       "     Price  Bathrooms  Square_feet  Outlier\n",
       "0   543434          2         1500        0\n",
       "1   395662          3         2500        0\n",
       "2   328646          2         1500        0\n",
       "3  4852154        116        48000        1"
      ]
     },
     "execution_count": 8,
     "metadata": {},
     "output_type": "execute_result"
    },
    {
     "data": {
      "text/html": [
       "<div>\n",
       "<style scoped>\n",
       "    .dataframe tbody tr th:only-of-type {\n",
       "        vertical-align: middle;\n",
       "    }\n",
       "\n",
       "    .dataframe tbody tr th {\n",
       "        vertical-align: top;\n",
       "    }\n",
       "\n",
       "    .dataframe thead th {\n",
       "        text-align: right;\n",
       "    }\n",
       "</style>\n",
       "<table border=\"1\" class=\"dataframe\">\n",
       "  <thead>\n",
       "    <tr style=\"text-align: right;\">\n",
       "      <th></th>\n",
       "      <th>Price</th>\n",
       "      <th>Bathrooms</th>\n",
       "      <th>Square_feet</th>\n",
       "      <th>Outlier</th>\n",
       "      <th>Log(Square_feet)</th>\n",
       "    </tr>\n",
       "  </thead>\n",
       "  <tbody>\n",
       "    <tr>\n",
       "      <th>0</th>\n",
       "      <td>543434</td>\n",
       "      <td>2</td>\n",
       "      <td>1500</td>\n",
       "      <td>0</td>\n",
       "      <td>7.313220</td>\n",
       "    </tr>\n",
       "    <tr>\n",
       "      <th>1</th>\n",
       "      <td>395662</td>\n",
       "      <td>3</td>\n",
       "      <td>2500</td>\n",
       "      <td>0</td>\n",
       "      <td>7.824046</td>\n",
       "    </tr>\n",
       "    <tr>\n",
       "      <th>2</th>\n",
       "      <td>328646</td>\n",
       "      <td>2</td>\n",
       "      <td>1500</td>\n",
       "      <td>0</td>\n",
       "      <td>7.313220</td>\n",
       "    </tr>\n",
       "    <tr>\n",
       "      <th>3</th>\n",
       "      <td>4852154</td>\n",
       "      <td>116</td>\n",
       "      <td>48000</td>\n",
       "      <td>1</td>\n",
       "      <td>10.778956</td>\n",
       "    </tr>\n",
       "  </tbody>\n",
       "</table>\n",
       "</div>"
      ],
      "text/plain": [
       "     Price  Bathrooms  Square_feet  Outlier  Log(Square_feet)\n",
       "0   543434          2         1500        0          7.313220\n",
       "1   395662          3         2500        0          7.824046\n",
       "2   328646          2         1500        0          7.313220\n",
       "3  4852154        116        48000        1         10.778956"
      ]
     },
     "execution_count": 8,
     "metadata": {},
     "output_type": "execute_result"
    },
    {
     "data": {
      "text/html": [
       "<div>\n",
       "<style scoped>\n",
       "    .dataframe tbody tr th:only-of-type {\n",
       "        vertical-align: middle;\n",
       "    }\n",
       "\n",
       "    .dataframe tbody tr th {\n",
       "        vertical-align: top;\n",
       "    }\n",
       "\n",
       "    .dataframe thead th {\n",
       "        text-align: right;\n",
       "    }\n",
       "</style>\n",
       "<table border=\"1\" class=\"dataframe\">\n",
       "  <thead>\n",
       "    <tr style=\"text-align: right;\">\n",
       "      <th></th>\n",
       "      <th>Price</th>\n",
       "      <th>Bathrooms</th>\n",
       "      <th>Square_feet</th>\n",
       "      <th>Outlier</th>\n",
       "      <th>Log(Square_feet)</th>\n",
       "      <th>Robust</th>\n",
       "    </tr>\n",
       "  </thead>\n",
       "  <tbody>\n",
       "    <tr>\n",
       "      <th>0</th>\n",
       "      <td>543434</td>\n",
       "      <td>2</td>\n",
       "      <td>1500</td>\n",
       "      <td>0</td>\n",
       "      <td>7.313220</td>\n",
       "      <td>-0.040404</td>\n",
       "    </tr>\n",
       "    <tr>\n",
       "      <th>1</th>\n",
       "      <td>395662</td>\n",
       "      <td>3</td>\n",
       "      <td>2500</td>\n",
       "      <td>0</td>\n",
       "      <td>7.824046</td>\n",
       "      <td>0.040404</td>\n",
       "    </tr>\n",
       "    <tr>\n",
       "      <th>2</th>\n",
       "      <td>328646</td>\n",
       "      <td>2</td>\n",
       "      <td>1500</td>\n",
       "      <td>0</td>\n",
       "      <td>7.313220</td>\n",
       "      <td>-0.040404</td>\n",
       "    </tr>\n",
       "    <tr>\n",
       "      <th>3</th>\n",
       "      <td>4852154</td>\n",
       "      <td>116</td>\n",
       "      <td>48000</td>\n",
       "      <td>1</td>\n",
       "      <td>10.778956</td>\n",
       "      <td>3.717172</td>\n",
       "    </tr>\n",
       "  </tbody>\n",
       "</table>\n",
       "</div>"
      ],
      "text/plain": [
       "     Price  Bathrooms  Square_feet  Outlier  Log(Square_feet)    Robust\n",
       "0   543434          2         1500        0          7.313220 -0.040404\n",
       "1   395662          3         2500        0          7.824046  0.040404\n",
       "2   328646          2         1500        0          7.313220 -0.040404\n",
       "3  4852154        116        48000        1         10.778956  3.717172"
      ]
     },
     "execution_count": 8,
     "metadata": {},
     "output_type": "execute_result"
    }
   ],
   "source": [
    "houses = pd.DataFrame()\n",
    "houses[\"Price\"] = [543434, 395662, 328646, 4852154]\n",
    "houses[\"Bathrooms\"] = [2, 3, 2, 116]\n",
    "houses[\"Square_feet\"] = [1500, 2500, 1500, 48000]\n",
    "# filter\n",
    "houses[houses[\"Bathrooms\"] < 20]\n",
    "# mark outlier\n",
    "houses[\"Outlier\"] = np.where(houses[\"Bathrooms\"] < 20, 0, 1)\n",
    "houses\n",
    "# or digitalize it\n",
    "houses[\"Log(Square_feet)\"] = houses[\"Square_feet\"].apply(lambda x: np.log(x))\n",
    "houses\n",
    "# robust scaling\n",
    "houses[\"Robust\"] = (robust_scaler.fit_transform(houses[\"Square_feet\"].values.reshape(-1, 1))).reshape(-1)\n",
    "houses"
   ]
  },
  {
   "cell_type": "markdown",
   "metadata": {},
   "source": [
    "## 4.8 Discretizating Features"
   ]
  },
  {
   "cell_type": "code",
   "execution_count": 9,
   "metadata": {},
   "outputs": [
    {
     "data": {
      "text/plain": [
       "array([[0],\n",
       "       [0],\n",
       "       [1],\n",
       "       [1],\n",
       "       [1]])"
      ]
     },
     "execution_count": 9,
     "metadata": {},
     "output_type": "execute_result"
    },
    {
     "data": {
      "text/plain": [
       "array([[0],\n",
       "       [0],\n",
       "       [1],\n",
       "       [2],\n",
       "       [3]], dtype=int64)"
      ]
     },
     "execution_count": 9,
     "metadata": {},
     "output_type": "execute_result"
    },
    {
     "data": {
      "text/plain": [
       "array([[0],\n",
       "       [0],\n",
       "       [0],\n",
       "       [2],\n",
       "       [3]], dtype=int64)"
      ]
     },
     "execution_count": 9,
     "metadata": {},
     "output_type": "execute_result"
    }
   ],
   "source": [
    "age = np.array([[6], [12], [20], [36], [65]])\n",
    "# binary \n",
    "binarizer = preprocessing.Binarizer(threshold=18)\n",
    "binarizer.fit_transform(age)\n",
    "# multiple\n",
    "# with [)\n",
    "np.digitize(age, bins=[20, 30, 64])\n",
    "# with (]\n",
    "np.digitize(age, bins=[20, 30, 64], right=True)"
   ]
  },
  {
   "cell_type": "markdown",
   "metadata": {},
   "source": [
    "## 4.9 Grouping Obervation Using Clustering\n",
    "Using k-means clustering to group similar observation."
   ]
  },
  {
   "cell_type": "code",
   "execution_count": 10,
   "metadata": {},
   "outputs": [
    {
     "data": {
      "text/plain": [
       "KMeans(n_clusters=3, random_state=0)"
      ]
     },
     "execution_count": 10,
     "metadata": {},
     "output_type": "execute_result"
    },
    {
     "data": {
      "text/html": [
       "<div>\n",
       "<style scoped>\n",
       "    .dataframe tbody tr th:only-of-type {\n",
       "        vertical-align: middle;\n",
       "    }\n",
       "\n",
       "    .dataframe tbody tr th {\n",
       "        vertical-align: top;\n",
       "    }\n",
       "\n",
       "    .dataframe thead th {\n",
       "        text-align: right;\n",
       "    }\n",
       "</style>\n",
       "<table border=\"1\" class=\"dataframe\">\n",
       "  <thead>\n",
       "    <tr style=\"text-align: right;\">\n",
       "      <th></th>\n",
       "      <th>feature_1</th>\n",
       "      <th>feature_2</th>\n",
       "      <th>group</th>\n",
       "    </tr>\n",
       "  </thead>\n",
       "  <tbody>\n",
       "    <tr>\n",
       "      <th>0</th>\n",
       "      <td>-9.877554</td>\n",
       "      <td>-3.336145</td>\n",
       "      <td>0</td>\n",
       "    </tr>\n",
       "    <tr>\n",
       "      <th>1</th>\n",
       "      <td>-7.287210</td>\n",
       "      <td>-8.353986</td>\n",
       "      <td>2</td>\n",
       "    </tr>\n",
       "    <tr>\n",
       "      <th>2</th>\n",
       "      <td>-6.943061</td>\n",
       "      <td>-7.023744</td>\n",
       "      <td>2</td>\n",
       "    </tr>\n",
       "    <tr>\n",
       "      <th>3</th>\n",
       "      <td>-7.440167</td>\n",
       "      <td>-8.791959</td>\n",
       "      <td>2</td>\n",
       "    </tr>\n",
       "    <tr>\n",
       "      <th>4</th>\n",
       "      <td>-6.641388</td>\n",
       "      <td>-8.075888</td>\n",
       "      <td>2</td>\n",
       "    </tr>\n",
       "  </tbody>\n",
       "</table>\n",
       "</div>"
      ],
      "text/plain": [
       "   feature_1  feature_2  group\n",
       "0  -9.877554  -3.336145      0\n",
       "1  -7.287210  -8.353986      2\n",
       "2  -6.943061  -7.023744      2\n",
       "3  -7.440167  -8.791959      2\n",
       "4  -6.641388  -8.075888      2"
      ]
     },
     "execution_count": 10,
     "metadata": {},
     "output_type": "execute_result"
    },
    {
     "data": {
      "text/plain": [
       "<Figure size 432x288 with 0 Axes>"
      ]
     },
     "execution_count": 10,
     "metadata": {},
     "output_type": "execute_result"
    },
    {
     "data": {
      "text/plain": [
       "<matplotlib.collections.PathCollection at 0x25b8fe51220>"
      ]
     },
     "execution_count": 10,
     "metadata": {},
     "output_type": "execute_result"
    },
    {
     "data": {
      "image/png": "[encoded data removed]",
      "text/plain": [
       "<Figure size 432x288 with 1 Axes>"
      ]
     },
     "metadata": {
      "needs_background": "light"
     },
     "output_type": "display_data"
    }
   ],
   "source": [
    "feature, _ = datasets.make_blobs(n_samples=50,\n",
    "                                 n_features=2,\n",
    "                                 centers=3,\n",
    "                                 random_state=1)\n",
    "df = pd.DataFrame(feature, columns=[\"feature_1\", \"feature_2\"])\n",
    "clustering = cluster.KMeans(3, random_state=0)\n",
    "clustering.fit(feature)\n",
    "df[\"group\"] = clustering.predict(feature)\n",
    "df.head(5)\n",
    "plt.figure()\n",
    "plt.scatter(df[\"feature_1\"], df[\"feature_2\"], c=df[\"group\"])\n",
    "plt.show()"
   ]
  },
  {
   "cell_type": "markdown",
   "metadata": {},
   "source": [
    "## 4.10 Deleting Observations with Missing Value"
   ]
  },
  {
   "cell_type": "code",
   "execution_count": 11,
   "metadata": {},
   "outputs": [
    {
     "data": {
      "text/plain": [
       "array([[ 1.1, 11.1],\n",
       "       [ 2.2, 22.2],\n",
       "       [ 3.3, 33.3],\n",
       "       [ 4.4, 44.4]])"
      ]
     },
     "execution_count": 11,
     "metadata": {},
     "output_type": "execute_result"
    },
    {
     "data": {
      "text/html": [
       "<div>\n",
       "<style scoped>\n",
       "    .dataframe tbody tr th:only-of-type {\n",
       "        vertical-align: middle;\n",
       "    }\n",
       "\n",
       "    .dataframe tbody tr th {\n",
       "        vertical-align: top;\n",
       "    }\n",
       "\n",
       "    .dataframe thead th {\n",
       "        text-align: right;\n",
       "    }\n",
       "</style>\n",
       "<table border=\"1\" class=\"dataframe\">\n",
       "  <thead>\n",
       "    <tr style=\"text-align: right;\">\n",
       "      <th></th>\n",
       "      <th>a</th>\n",
       "      <th>b</th>\n",
       "    </tr>\n",
       "  </thead>\n",
       "  <tbody>\n",
       "    <tr>\n",
       "      <th>0</th>\n",
       "      <td>1.1</td>\n",
       "      <td>11.1</td>\n",
       "    </tr>\n",
       "    <tr>\n",
       "      <th>1</th>\n",
       "      <td>2.2</td>\n",
       "      <td>22.2</td>\n",
       "    </tr>\n",
       "    <tr>\n",
       "      <th>2</th>\n",
       "      <td>3.3</td>\n",
       "      <td>33.3</td>\n",
       "    </tr>\n",
       "    <tr>\n",
       "      <th>3</th>\n",
       "      <td>4.4</td>\n",
       "      <td>44.4</td>\n",
       "    </tr>\n",
       "  </tbody>\n",
       "</table>\n",
       "</div>"
      ],
      "text/plain": [
       "     a     b\n",
       "0  1.1  11.1\n",
       "1  2.2  22.2\n",
       "2  3.3  33.3\n",
       "3  4.4  44.4"
      ]
     },
     "execution_count": 11,
     "metadata": {},
     "output_type": "execute_result"
    }
   ],
   "source": [
    "feature = np.array([[1.1, 11.1], [2.2, 22.2], [3.3, 33.3], [4.4, 44.4], [np.nan, 55.5]])\n",
    "feature[~np.isnan(feature).any(axis=1)]\n",
    "df = pd.DataFrame(feature, columns=[\"a\", \"b\"])\n",
    "df.dropna()"
   ]
  },
  {
   "cell_type": "markdown",
   "metadata": {},
   "source": [
    "## 4.11 Inputing Missing Values"
   ]
  },
  {
   "cell_type": "code",
   "execution_count": 12,
   "metadata": {},
   "outputs": [
    {
     "name": "stdout",
     "output_type": "stream",
     "text": [
      "True value: 0.8730186113995938\n",
      "Imputed Value: 1.0959262913919632\n",
      "True value: 0.8730186113995938\n",
      "Imputed Value: -3.058372724614996\n"
     ]
    }
   ],
   "source": [
    "feature, _ = datasets.make_blobs(n_samples=1000,\n",
    "                                 n_features=2,\n",
    "                                 random_state=1)\n",
    "scaler = preprocessing.StandardScaler()\n",
    "standardized_feature = scaler.fit_transform(feature)\n",
    "# testing...\n",
    "true_value = standardized_feature[0, 0]\n",
    "standardized_feature[0, 0] = np.nan\n",
    "# predicting...\n",
    "feature_knn_imputed = impute.KNNImputer(n_neighbors=5).fit_transform(standardized_feature)\n",
    "# comparing...\n",
    "print(\"True value:\", true_value)\n",
    "print(\"Imputed Value:\", feature_knn_imputed[0, 0])\n",
    "\n",
    "# another way\n",
    "mean_imputed = impute.SimpleImputer()\n",
    "feature_mean_imputed = mean_imputed.fit_transform(feature)\n",
    "# comparing...\n",
    "print(\"True value:\", true_value)\n",
    "print(\"Imputed Value:\", feature_mean_imputed[0, 0])"
   ]
  }
 ],
 "metadata": {
  "kernelspec": {
   "display_name": "Python 3",
   "language": "python",
   "name": "python3"
  },
  "language_info": {
   "codemirror_mode": {
    "name": "ipython",
    "version": 3
   },
   "file_extension": ".py",
   "mimetype": "text/x-python",
   "name": "python",
   "nbconvert_exporter": "python",
   "pygments_lexer": "ipython3",
   "version": "3.8.5"
  }
 },
 "nbformat": 4,
 "nbformat_minor": 4
}
