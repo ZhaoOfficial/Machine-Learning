{
 "cells": [
  {
   "cell_type": "markdown",
   "id": "5cdfbc21",
   "metadata": {},
   "source": [
    "# Chapter10 Dimensionality Reduction Using Feature Selection"
   ]
  },
  {
   "cell_type": "code",
   "execution_count": 1,
   "id": "dc3c2be5",
   "metadata": {},
   "outputs": [],
   "source": [
    "from IPython.core.interactiveshell import InteractiveShell\n",
    "InteractiveShell.ast_node_interactivity = 'all'\n",
    "\n",
    "from sklearn import datasets\n",
    "from sklearn import linear_model\n",
    "from sklearn.preprocessing import StandardScaler\n",
    "from sklearn.feature_selection import VarianceThreshold\n",
    "from sklearn.feature_selection import SelectKBest\n",
    "from sklearn.feature_selection import SelectPercentile\n",
    "from sklearn.feature_selection import chi2, f_classif\n",
    "from sklearn.feature_selection import RFECV\n",
    "\n",
    "import numpy as np\n",
    "import pandas as pd"
   ]
  },
  {
   "cell_type": "markdown",
   "id": "bf8db004",
   "metadata": {},
   "source": [
    "## 10.1 Thresholding Numeric Feature Variance\n",
    "Variance Thresholding (VT) is motivated by the idea that features with low variance are likely less useful than that with high variance.\n",
    "\n",
    "First, calculate the variance of each feature, $x$ is the feature vector, $x_i$ is the feature, $\\mu$ is the mean of that feature.\n",
    "$$\n",
    "\\text{Var}(x)=\\frac{1}{n}\\sum_{i=1}^{n}(x_i-\\mu)^2\n",
    "$$\n",
    "Second, drop all features whose variance lower than threshold."
   ]
  },
  {
   "cell_type": "code",
   "execution_count": 2,
   "id": "4bc138e1",
   "metadata": {},
   "outputs": [
    {
     "name": "stdout",
     "output_type": "stream",
     "text": [
      "[[5.1 1.4 0.2]\n",
      " [4.9 1.4 0.2]\n",
      " [4.7 1.3 0.2]]\n",
      "(150, 3)\n"
     ]
    }
   ],
   "source": [
    "iris = datasets.load_iris()\n",
    "features = iris.data\n",
    "target = iris.target\n",
    "# create threshold\n",
    "threshold = VarianceThreshold(threshold=0.5)\n",
    "# create high variance feature matrix\n",
    "features_high_variance = threshold.fit_transform(features)\n",
    "# view high variance feature matrix\n",
    "print(features_high_variance[0:3])\n",
    "print(features_high_variance.shape)"
   ]
  },
  {
   "cell_type": "code",
   "execution_count": 3,
   "id": "29efa0de",
   "metadata": {},
   "outputs": [
    {
     "data": {
      "text/plain": [
       "array([0.68112222, 0.18871289, 3.09550267, 0.57713289])"
      ]
     },
     "execution_count": 3,
     "metadata": {},
     "output_type": "execute_result"
    }
   ],
   "source": [
    "# view variance\n",
    "threshold.fit(features).variances_"
   ]
  },
  {
   "cell_type": "code",
   "execution_count": 4,
   "id": "5e641beb",
   "metadata": {},
   "outputs": [
    {
     "data": {
      "text/plain": [
       "array([1., 1., 1., 1.])"
      ]
     },
     "execution_count": 4,
     "metadata": {},
     "output_type": "execute_result"
    }
   ],
   "source": [
    "# do not standardize it\n",
    "VarianceThreshold().fit(StandardScaler().fit_transform(features)).variances_"
   ]
  },
  {
   "cell_type": "markdown",
   "id": "8e4d27f1",
   "metadata": {},
   "source": [
    "## 10.2 Thresholding Binary Feature Variance"
   ]
  },
  {
   "cell_type": "code",
   "execution_count": 5,
   "id": "ceb0ab4d",
   "metadata": {},
   "outputs": [
    {
     "data": {
      "text/plain": [
       "array([[0],\n",
       "       [1],\n",
       "       [0],\n",
       "       [0],\n",
       "       [1]])"
      ]
     },
     "execution_count": 5,
     "metadata": {},
     "output_type": "execute_result"
    },
    {
     "name": "stdout",
     "output_type": "stream",
     "text": [
      "0.1875\n",
      "[0.16 0.16 0.24]\n"
     ]
    }
   ],
   "source": [
    "# feature 0: 0.8 class 0\n",
    "# feature 1: 0.2 class 0\n",
    "# feature 2: 0.6 class 0\n",
    "features = [[0, 1, 0],\n",
    "            [0, 1, 1],\n",
    "            [0, 1, 0],\n",
    "            [0, 1, 0],\n",
    "            [1, 0, 1]]\n",
    "p = 0.75\n",
    "threshold = VarianceThreshold(threshold=(p * (1 - p)))\n",
    "threshold.fit_transform(features)\n",
    "print(p * (1 - p))\n",
    "print(threshold.fit(features).variances_)"
   ]
  },
  {
   "cell_type": "markdown",
   "id": "8d13c145",
   "metadata": {},
   "source": [
    "## 10.3 Handling Highly Correlated Features"
   ]
  },
  {
   "cell_type": "code",
   "execution_count": 6,
   "id": "7162b31c",
   "metadata": {},
   "outputs": [
    {
     "data": {
      "text/html": [
       "<div>\n",
       "<style scoped>\n",
       "    .dataframe tbody tr th:only-of-type {\n",
       "        vertical-align: middle;\n",
       "    }\n",
       "\n",
       "    .dataframe tbody tr th {\n",
       "        vertical-align: top;\n",
       "    }\n",
       "\n",
       "    .dataframe thead th {\n",
       "        text-align: right;\n",
       "    }\n",
       "</style>\n",
       "<table border=\"1\" class=\"dataframe\">\n",
       "  <thead>\n",
       "    <tr style=\"text-align: right;\">\n",
       "      <th></th>\n",
       "      <th>0</th>\n",
       "      <th>1</th>\n",
       "      <th>2</th>\n",
       "    </tr>\n",
       "  </thead>\n",
       "  <tbody>\n",
       "    <tr>\n",
       "      <th>0</th>\n",
       "      <td>1.000000</td>\n",
       "      <td>0.976103</td>\n",
       "      <td>0.000000</td>\n",
       "    </tr>\n",
       "    <tr>\n",
       "      <th>1</th>\n",
       "      <td>0.976103</td>\n",
       "      <td>1.000000</td>\n",
       "      <td>-0.034503</td>\n",
       "    </tr>\n",
       "    <tr>\n",
       "      <th>2</th>\n",
       "      <td>0.000000</td>\n",
       "      <td>-0.034503</td>\n",
       "      <td>1.000000</td>\n",
       "    </tr>\n",
       "  </tbody>\n",
       "</table>\n",
       "</div>"
      ],
      "text/plain": [
       "          0         1         2\n",
       "0  1.000000  0.976103  0.000000\n",
       "1  0.976103  1.000000 -0.034503\n",
       "2  0.000000 -0.034503  1.000000"
      ]
     },
     "execution_count": 6,
     "metadata": {},
     "output_type": "execute_result"
    },
    {
     "data": {
      "text/html": [
       "<div>\n",
       "<style scoped>\n",
       "    .dataframe tbody tr th:only-of-type {\n",
       "        vertical-align: middle;\n",
       "    }\n",
       "\n",
       "    .dataframe tbody tr th {\n",
       "        vertical-align: top;\n",
       "    }\n",
       "\n",
       "    .dataframe thead th {\n",
       "        text-align: right;\n",
       "    }\n",
       "</style>\n",
       "<table border=\"1\" class=\"dataframe\">\n",
       "  <thead>\n",
       "    <tr style=\"text-align: right;\">\n",
       "      <th></th>\n",
       "      <th>0</th>\n",
       "      <th>1</th>\n",
       "    </tr>\n",
       "  </thead>\n",
       "  <tbody>\n",
       "    <tr>\n",
       "      <th>0</th>\n",
       "      <td>1</td>\n",
       "      <td>1</td>\n",
       "    </tr>\n",
       "    <tr>\n",
       "      <th>1</th>\n",
       "      <td>2</td>\n",
       "      <td>2</td>\n",
       "    </tr>\n",
       "    <tr>\n",
       "      <th>2</th>\n",
       "      <td>3</td>\n",
       "      <td>3</td>\n",
       "    </tr>\n",
       "    <tr>\n",
       "      <th>3</th>\n",
       "      <td>4</td>\n",
       "      <td>4</td>\n",
       "    </tr>\n",
       "    <tr>\n",
       "      <th>4</th>\n",
       "      <td>5</td>\n",
       "      <td>5</td>\n",
       "    </tr>\n",
       "    <tr>\n",
       "      <th>5</th>\n",
       "      <td>6</td>\n",
       "      <td>6</td>\n",
       "    </tr>\n",
       "    <tr>\n",
       "      <th>6</th>\n",
       "      <td>7</td>\n",
       "      <td>7</td>\n",
       "    </tr>\n",
       "    <tr>\n",
       "      <th>7</th>\n",
       "      <td>8</td>\n",
       "      <td>7</td>\n",
       "    </tr>\n",
       "    <tr>\n",
       "      <th>8</th>\n",
       "      <td>9</td>\n",
       "      <td>7</td>\n",
       "    </tr>\n",
       "  </tbody>\n",
       "</table>\n",
       "</div>"
      ],
      "text/plain": [
       "   0  1\n",
       "0  1  1\n",
       "1  2  2\n",
       "2  3  3\n",
       "3  4  4\n",
       "4  5  5\n",
       "5  6  6\n",
       "6  7  7\n",
       "7  8  7\n",
       "8  9  7"
      ]
     },
     "execution_count": 6,
     "metadata": {},
     "output_type": "execute_result"
    }
   ],
   "source": [
    "features = np.array(\n",
    "            [[1, 1, 1],\n",
    "            [2, 2, 0],\n",
    "            [3, 3, 1],\n",
    "            [4, 4, 0],\n",
    "            [5, 5, 1],\n",
    "            [6, 6, 0],\n",
    "            [7, 7, 1],\n",
    "            [8, 7, 0],\n",
    "            [9, 7, 1]])\n",
    "df = pd.DataFrame(features)\n",
    "# create correlation matrix\n",
    "corr_matrix = df.corr().abs()\n",
    "df.corr()\n",
    "# discard diagnol of corr_matrix\n",
    "corr_matrix[np.eye(corr_matrix.shape[0], dtype=bool)] = np.nan\n",
    "# find index of feature columns with correlation greater than 0.95\n",
    "corr_matrix = corr_matrix[corr_matrix > 0.95]\n",
    "df.iloc[:, corr_matrix.columns[corr_matrix.any()]]"
   ]
  },
  {
   "cell_type": "markdown",
   "id": "1177b464",
   "metadata": {},
   "source": [
    "## 10.4 Removing Irrelevant Features for Classification\n",
    "\n",
    "**This part is about Analysis of Variance.**\n",
    "\n",
    "Chi-square ($\\chi^2$) statistics examines the independence of two categorical vectors\n",
    "$$\n",
    "\\chi^2=\\sum_{i=1}^n\\frac{(O_i-E_i)^2}{E_i}\n",
    "$$\n",
    "$O_i$ is the number of observation in class $i$, $E_i$ is the number of observations in class $i$ we would expect if there is no relationship between the feature and target.\n",
    "\n",
    "Also, we can use `f_classif` to calculate the F-value statistics."
   ]
  },
  {
   "cell_type": "code",
   "execution_count": 7,
   "id": "225fab5a",
   "metadata": {},
   "outputs": [
    {
     "name": "stdout",
     "output_type": "stream",
     "text": [
      "Original number of features = 4\n",
      "Reduced number of features = 2\n",
      "(array([ 10.28712871,   5.02267003, 133.06854839,  74.27906977]), array([5.83684799e-03, 8.11598175e-02, 1.27213107e-29, 7.42172639e-17]))\n"
     ]
    }
   ],
   "source": [
    "iris = datasets.load_iris()\n",
    "features = iris.data\n",
    "target = iris.target\n",
    "# convert to categorical data by converting data to int\n",
    "features = features.astype(int)\n",
    "# select two features with highest chi2 statistics\n",
    "chi2_selector = SelectKBest(chi2, k=2)\n",
    "features_kbest = chi2_selector.fit_transform(features, target)\n",
    "print(\"Original number of features =\", features.shape[1])\n",
    "print(\"Reduced number of features =\", features_kbest.shape[1])\n",
    "print(chi2(features, target))"
   ]
  },
  {
   "cell_type": "code",
   "execution_count": 8,
   "id": "d571ffa4",
   "metadata": {},
   "outputs": [
    {
     "name": "stdout",
     "output_type": "stream",
     "text": [
      "Original number of features = 4\n",
      "Reduced number of features = 2\n",
      "(array([  81.19715 ,   33.715004, 1160.0116  ,  385.483   ], dtype=float32), array([1.7586086e-24, 8.8784123e-13, 0.0000000e+00, 0.0000000e+00],\n",
      "      dtype=float32))\n"
     ]
    }
   ],
   "source": [
    "fvalue_selector = SelectKBest(f_classif, k=2)\n",
    "features_kbest = fvalue_selector.fit_transform(features, target)\n",
    "print(\"Original number of features =\", features.shape[1])\n",
    "print(\"Reduced number of features =\", features_kbest.shape[1])\n",
    "print(f_classif(features, target))"
   ]
  },
  {
   "cell_type": "code",
   "execution_count": 9,
   "id": "43afd8a6",
   "metadata": {},
   "outputs": [
    {
     "name": "stdout",
     "output_type": "stream",
     "text": [
      "Original number of features = 4\n",
      "Reduced number of features = 3\n"
     ]
    }
   ],
   "source": [
    "# select top 75% of features with highest F-values\n",
    "fvalue_selector = SelectPercentile(f_classif, percentile=75)\n",
    "features_kbest = fvalue_selector.fit_transform(features, target)\n",
    "print(\"Original number of features =\", features.shape[1])\n",
    "print(\"Reduced number of features =\", features_kbest.shape[1])"
   ]
  },
  {
   "cell_type": "markdown",
   "id": "1ba8d732",
   "metadata": {},
   "source": [
    "## 10.5 Recursively Eliminating Features\n",
    "Recursive Feature Elimination using Cross Validation (RFECV) will repeatedly train a model, each time removing a feature until model performance becomes worse."
   ]
  },
  {
   "cell_type": "code",
   "execution_count": 10,
   "id": "1f34924d",
   "metadata": {},
   "outputs": [
    {
     "data": {
      "text/plain": [
       "RFECV(estimator=LinearRegression(), scoring='neg_mean_squared_error')"
      ]
     },
     "execution_count": 10,
     "metadata": {},
     "output_type": "execute_result"
    },
    {
     "data": {
      "text/plain": [
       "array([[ 0.00850799,  0.7031277 ],\n",
       "       [-1.07500204,  2.56148527],\n",
       "       [ 1.37940721, -1.77039484],\n",
       "       ...,\n",
       "       [-0.80331656, -1.60648007],\n",
       "       [ 0.39508844, -1.34564911],\n",
       "       [-0.55383035,  0.82880112]])"
      ]
     },
     "execution_count": 10,
     "metadata": {},
     "output_type": "execute_result"
    },
    {
     "data": {
      "text/plain": [
       "2"
      ]
     },
     "execution_count": 10,
     "metadata": {},
     "output_type": "execute_result"
    }
   ],
   "source": [
    "features, target = datasets.make_regression(n_samples=10000, n_features=100, n_informative=2, random_state=1)\n",
    "# create a linear regression\n",
    "ols = linear_model.LinearRegression()\n",
    "# recursively eliminate features\n",
    "rfecv = RFECV(estimator=ols, step=1, scoring=\"neg_mean_squared_error\")\n",
    "rfecv.fit(features, target)\n",
    "rfecv.transform(features)\n",
    "# numbor of best features\n",
    "rfecv.n_features_"
   ]
  },
  {
   "cell_type": "code",
   "execution_count": 11,
   "id": "cdf1a4e4",
   "metadata": {},
   "outputs": [
    {
     "data": {
      "text/plain": [
       "array([False, False, False, False, False,  True, False, False, False,\n",
       "       False, False, False, False, False, False, False, False, False,\n",
       "       False, False, False, False, False, False, False, False, False,\n",
       "       False, False, False, False, False, False, False, False, False,\n",
       "       False, False, False,  True, False, False, False, False, False,\n",
       "       False, False, False, False, False, False, False, False, False,\n",
       "       False, False, False, False, False, False, False, False, False,\n",
       "       False, False, False, False, False, False, False, False, False,\n",
       "       False, False, False, False, False, False, False, False, False,\n",
       "       False, False, False, False, False, False, False, False, False,\n",
       "       False, False, False, False, False, False, False, False, False,\n",
       "       False])"
      ]
     },
     "execution_count": 11,
     "metadata": {},
     "output_type": "execute_result"
    }
   ],
   "source": [
    "# which categories are best\n",
    "rfecv.support_"
   ]
  },
  {
   "cell_type": "code",
   "execution_count": 12,
   "id": "2da08da3",
   "metadata": {},
   "outputs": [
    {
     "data": {
      "text/plain": [
       "array([54, 53, 79, 35, 44,  1,  3, 21, 13, 78, 14, 50, 80, 38, 45, 41, 20,\n",
       "        9, 96, 43, 32, 91, 34, 85, 27, 98, 49, 15,  5, 10, 99, 28,  7, 19,\n",
       "       30, 46, 60, 87, 11,  1, 12, 31, 97, 70, 33, 89, 65, 42, 76, 75, 56,\n",
       "       84,  2, 16, 47, 81, 90, 23, 93, 36, 82, 37,  6, 62, 51, 39, 94, 83,\n",
       "       73, 67, 92, 61, 59, 57, 24, 48, 71, 66, 25, 26, 22, 72,  8, 29, 77,\n",
       "       40, 74, 88, 86, 18, 69, 52, 64,  4, 58, 95, 17, 68, 55, 63])"
      ]
     },
     "execution_count": 12,
     "metadata": {},
     "output_type": "execute_result"
    }
   ],
   "source": [
    "# rank of each feature, (1) means best\n",
    "rfecv.ranking_"
   ]
  }
 ],
 "metadata": {
  "kernelspec": {
   "display_name": "Python 3",
   "language": "python",
   "name": "python3"
  },
  "language_info": {
   "codemirror_mode": {
    "name": "ipython",
    "version": 3
   },
   "file_extension": ".py",
   "mimetype": "text/x-python",
   "name": "python",
   "nbconvert_exporter": "python",
   "pygments_lexer": "ipython3",
   "version": "3.8.5"
  }
 },
 "nbformat": 4,
 "nbformat_minor": 5
}
