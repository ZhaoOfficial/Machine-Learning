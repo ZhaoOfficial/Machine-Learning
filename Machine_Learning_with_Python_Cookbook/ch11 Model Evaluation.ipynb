{
 "cells": [
  {
   "cell_type": "markdown",
   "id": "82c257b0",
   "metadata": {},
   "source": [
    "# Chapter11 Model Evaluation"
   ]
  },
  {
   "cell_type": "code",
   "execution_count": 1,
   "id": "18360551",
   "metadata": {},
   "outputs": [],
   "source": [
    "from IPython.core.interactiveshell import InteractiveShell\n",
    "InteractiveShell.ast_node_interactivity = 'all'\n",
    "\n",
    "from sklearn import datasets\n",
    "from sklearn import metrics\n",
    "from sklearn.model_selection import KFold, cross_val_score\n",
    "from sklearn.model_selection import train_test_split\n",
    "from sklearn.pipeline import make_pipeline\n",
    "from sklearn.linear_model import LogisticRegression\n",
    "from sklearn.linear_model import LinearRegression\n",
    "from sklearn.preprocessing import StandardScaler\n",
    "from sklearn.dummy import DummyRegressor\n",
    "from sklearn.dummy import DummyClassifier\n",
    "from sklearn.ensemble import RandomForestClassifier\n",
    "from sklearn.metrics import accuracy_score, recall_score\n",
    "from sklearn.metrics import roc_curve, roc_auc_score\n",
    "\n",
    "import matplotlib.pyplot as plt"
   ]
  },
  {
   "cell_type": "markdown",
   "id": "1b0dc696",
   "metadata": {},
   "source": [
    "## 11.1 Cross-Validation Models\n",
    "Cross Validation is a supervised learning model, in order to overcome overfitting, we need to separate it into two parts. \n",
    "\n",
    "In k-fold cross validation(KFCV), we split data into $k$ parts called folds. The model then trained $k - 1$ folds, combined into one training set, and the last fold is used as a test set. Repeat $k$ times, using all $k$ folds as test set. The performance on the model for each of the $k$ iterations is then averaged to produce an overall measurement.\n",
    "\n",
    "1. If the data is i.i.d, then it is a good idea to shuffle features and target(they are so called observations) when assigning to folds.\n",
    "\n",
    "2. It is often benificial to have folds containing roughly the same percentage of observations from each of the different target class. Using `StratifiedKFold`.\n",
    "\n",
    "3. Only train(`fit`) the training set and test(`transform`) both set."
   ]
  },
  {
   "cell_type": "code",
   "execution_count": 2,
   "id": "726f181c",
   "metadata": {},
   "outputs": [
    {
     "data": {
      "text/plain": [
       "array([0.97777778, 0.98888889, 0.96111111, 0.94444444, 0.97777778,\n",
       "       0.98333333, 0.95555556, 0.98882682, 0.97765363, 0.93854749])"
      ]
     },
     "execution_count": 2,
     "metadata": {},
     "output_type": "execute_result"
    },
    {
     "data": {
      "text/plain": [
       "0.9693916821849783"
      ]
     },
     "execution_count": 2,
     "metadata": {},
     "output_type": "execute_result"
    }
   ],
   "source": [
    "digits = datasets.load_digits()\n",
    "features = digits.data\n",
    "target = digits.target\n",
    "standardizer = StandardScaler()\n",
    "logit = LogisticRegression()\n",
    "# create a pipeline that standardize, then runs logistic regression\n",
    "pipeline = make_pipeline(standardizer, logit)\n",
    "# create k-fold cross-validation\n",
    "kf = KFold(n_splits=10, shuffle=True, random_state=1)\n",
    "# conduct k-fold cross-validation\n",
    "cv_result = cross_val_score(pipeline,\n",
    "                            features,\n",
    "                            target,\n",
    "                            cv=kf,\n",
    "                            scoring=\"accuracy\",\n",
    "                            n_jobs=-1) # use all CPU scores\n",
    "cv_result\n",
    "cv_result.mean()"
   ]
  },
  {
   "cell_type": "code",
   "execution_count": 3,
   "id": "91d0e646",
   "metadata": {},
   "outputs": [
    {
     "data": {
      "text/plain": [
       "StandardScaler()"
      ]
     },
     "execution_count": 3,
     "metadata": {},
     "output_type": "execute_result"
    }
   ],
   "source": [
    "# create training and test set\n",
    "features_train, features_test, target_train, target_test = train_test_split(\n",
    "    features, target, test_size=0.1, random_state=1\n",
    ")\n",
    "# fit for training set\n",
    "standardizer.fit(features_train)\n",
    "# transform both set\n",
    "features_train_std = standardizer.transform(features_train)\n",
    "features_test_std = standardizer.transform(features_test)"
   ]
  },
  {
   "cell_type": "markdown",
   "id": "2aae13d5",
   "metadata": {},
   "source": [
    "## 11.2 Creating a Baseline Regression Model\n",
    "`DummyRegressor` is used as a baseline to compare against our model.\n",
    "\n",
    "`mean` means that we use mean value as the model. Others are `median`, `constant`.\n",
    "\n",
    "$$\n",
    "R^2=1-\\frac{\\sum_i(y_i-\\hat{y_i})^2}{\\sum_i(y_i-\\bar{y_i})^2}\n",
    "$$\n",
    "\n",
    "where $y_i$ is the true value of the target observation, $\\hat{y_i}$ is the predicted value, and $\\bar{y_i}$ is the mean value of for the target value.\n",
    "\n",
    "The closer $R^2$ is to 1, the more of the variance in the target vector that is explained by the features. "
   ]
  },
  {
   "cell_type": "code",
   "execution_count": 4,
   "id": "adabad86",
   "metadata": {},
   "outputs": [
    {
     "name": "stdout",
     "output_type": "stream",
     "text": [
      "(506, 13)\n",
      "(506,)\n"
     ]
    },
    {
     "data": {
      "text/plain": [
       "DummyRegressor()"
      ]
     },
     "execution_count": 4,
     "metadata": {},
     "output_type": "execute_result"
    },
    {
     "data": {
      "text/plain": [
       "-0.001119359203955339"
      ]
     },
     "execution_count": 4,
     "metadata": {},
     "output_type": "execute_result"
    }
   ],
   "source": [
    "boston = datasets.load_boston()\n",
    "features = boston.data\n",
    "target = boston.target\n",
    "print(features.shape)\n",
    "print(target.shape)\n",
    "# make split\n",
    "features_train, features_test, target_train, target_test = train_test_split(\n",
    "    features, target, random_state=0\n",
    ")\n",
    "# create a dummy regression\n",
    "dummy = DummyRegressor(strategy='mean')\n",
    "dummy.fit(features_train, target_train)\n",
    "# get R-squared score\n",
    "dummy.score(features_test, target_test)"
   ]
  },
  {
   "cell_type": "code",
   "execution_count": 5,
   "id": "b0d66527",
   "metadata": {},
   "outputs": [
    {
     "data": {
      "text/plain": [
       "LinearRegression()"
      ]
     },
     "execution_count": 5,
     "metadata": {},
     "output_type": "execute_result"
    },
    {
     "data": {
      "text/plain": [
       "0.6354638433202129"
      ]
     },
     "execution_count": 5,
     "metadata": {},
     "output_type": "execute_result"
    }
   ],
   "source": [
    "# compare wit linear regression model\n",
    "ols = LinearRegression()\n",
    "ols.fit(features_train, target_train)\n",
    "ols.score(features_test, target_test)"
   ]
  },
  {
   "cell_type": "code",
   "execution_count": 6,
   "id": "d386ab79",
   "metadata": {},
   "outputs": [
    {
     "data": {
      "text/plain": [
       "DummyRegressor(constant=array(20), strategy='constant')"
      ]
     },
     "execution_count": 6,
     "metadata": {},
     "output_type": "execute_result"
    },
    {
     "data": {
      "text/plain": [
       "-0.06510502029325727"
      ]
     },
     "execution_count": 6,
     "metadata": {},
     "output_type": "execute_result"
    }
   ],
   "source": [
    "dummy = DummyRegressor(strategy='constant', constant=20)\n",
    "dummy.fit(features_train, target_train)\n",
    "dummy.score(features_test, target_test)"
   ]
  },
  {
   "cell_type": "markdown",
   "id": "4ce603c7",
   "metadata": {},
   "source": [
    "## 11.3 Creating a Baseline Classification Model"
   ]
  },
  {
   "cell_type": "code",
   "execution_count": 7,
   "id": "2d873f34",
   "metadata": {},
   "outputs": [
    {
     "data": {
      "text/plain": [
       "DummyClassifier(random_state=1, strategy='uniform')"
      ]
     },
     "execution_count": 7,
     "metadata": {},
     "output_type": "execute_result"
    },
    {
     "data": {
      "text/plain": [
       "0.42105263157894735"
      ]
     },
     "execution_count": 7,
     "metadata": {},
     "output_type": "execute_result"
    }
   ],
   "source": [
    "iris = datasets.load_iris()\n",
    "features = iris.data\n",
    "target = iris.target\n",
    "features_train, features_test, target_train, target_test = train_test_split(\n",
    "    features, target, random_state=0\n",
    ")\n",
    "# create a dummy classifier\n",
    "dummy = DummyClassifier(strategy='uniform', random_state=1)\n",
    "dummy.fit(features_train, target_train)\n",
    "dummy.score(features_test, target_test)"
   ]
  },
  {
   "cell_type": "code",
   "execution_count": 8,
   "id": "7eeb40f7",
   "metadata": {},
   "outputs": [
    {
     "data": {
      "text/plain": [
       "RandomForestClassifier()"
      ]
     },
     "execution_count": 8,
     "metadata": {},
     "output_type": "execute_result"
    },
    {
     "data": {
      "text/plain": [
       "0.9736842105263158"
      ]
     },
     "execution_count": 8,
     "metadata": {},
     "output_type": "execute_result"
    }
   ],
   "source": [
    "# compare with RandomForestClassifier\n",
    "clf = RandomForestClassifier()\n",
    "clf.fit(features_train, target_train)\n",
    "clf.score(features_test, target_test)"
   ]
  },
  {
   "cell_type": "markdown",
   "id": "de055648",
   "metadata": {},
   "source": [
    "## 11.4 Evaluating Binary Classifier Predictions\n",
    "TP is the number of true positives. Similar to TN, FP, FN.\n",
    "\n",
    "$$\n",
    "Accuracy = \\frac{TP+TN}{TP+TN+FP+FN}\n",
    "$$"
   ]
  },
  {
   "cell_type": "code",
   "execution_count": 9,
   "id": "87e5b085",
   "metadata": {},
   "outputs": [
    {
     "name": "stdout",
     "output_type": "stream",
     "text": [
      "(10000, 3)\n",
      "(10000,)\n"
     ]
    },
    {
     "data": {
      "text/plain": [
       "array([0.9555, 0.95  , 0.9585, 0.9555, 0.956 ])"
      ]
     },
     "execution_count": 9,
     "metadata": {},
     "output_type": "execute_result"
    }
   ],
   "source": [
    "x, y = datasets.make_classification(n_samples=10000,\n",
    "                                    n_features=3,\n",
    "                                    n_informative=3,\n",
    "                                    n_redundant=0,\n",
    "                                    n_classes=2,\n",
    "                                    random_state=1)\n",
    "print(x.shape)\n",
    "print(y.shape)\n",
    "logit = LogisticRegression()\n",
    "cross_val_score(logit, x, y, scoring='accuracy')"
   ]
  },
  {
   "cell_type": "markdown",
   "id": "66eaa68e",
   "metadata": {},
   "source": [
    "$$\n",
    "Precision=\\frac{TP}{TP+FP}\n",
    "$$"
   ]
  },
  {
   "cell_type": "code",
   "execution_count": 10,
   "id": "f833c9f9",
   "metadata": {},
   "outputs": [
    {
     "data": {
      "text/plain": [
       "array([0.95963673, 0.94820717, 0.9635996 , 0.96149949, 0.96060606])"
      ]
     },
     "execution_count": 10,
     "metadata": {},
     "output_type": "execute_result"
    }
   ],
   "source": [
    "cross_val_score(logit, x, y, scoring='precision')"
   ]
  },
  {
   "cell_type": "markdown",
   "id": "33ccb331",
   "metadata": {},
   "source": [
    "$$\n",
    "Recall=\\frac{TP}{TP+FN}\n",
    "$$"
   ]
  },
  {
   "cell_type": "code",
   "execution_count": 11,
   "id": "3fff32d3",
   "metadata": {},
   "outputs": [
    {
     "data": {
      "text/plain": [
       "array([0.951, 0.952, 0.953, 0.949, 0.951])"
      ]
     },
     "execution_count": 11,
     "metadata": {},
     "output_type": "execute_result"
    }
   ],
   "source": [
    "cross_val_score(logit, x, y, scoring='recall')"
   ]
  },
  {
   "cell_type": "markdown",
   "id": "72c0aeaa",
   "metadata": {},
   "source": [
    "$$\n",
    "F_1=2\\times\\frac{Precision\\times Recall}{Precision+Recall}\n",
    "$$\n",
    "It is a measure of correctness achieved in positive prediction, of observations labeled as positive, how many are actually positive."
   ]
  },
  {
   "cell_type": "code",
   "execution_count": 12,
   "id": "7e4d103b",
   "metadata": {},
   "outputs": [
    {
     "data": {
      "text/plain": [
       "array([0.95529884, 0.9500998 , 0.95827049, 0.95520886, 0.95577889])"
      ]
     },
     "execution_count": 12,
     "metadata": {},
     "output_type": "execute_result"
    }
   ],
   "source": [
    "cross_val_score(logit, x, y, scoring='f1')"
   ]
  },
  {
   "cell_type": "markdown",
   "id": "e396c0f7",
   "metadata": {},
   "source": [
    "If we have the true y adn the predicted y, we can calculate metrics like accuracy and recall directly"
   ]
  },
  {
   "cell_type": "code",
   "execution_count": 13,
   "id": "847b0cf3",
   "metadata": {},
   "outputs": [
    {
     "data": {
      "text/plain": [
       "0.947"
      ]
     },
     "execution_count": 13,
     "metadata": {},
     "output_type": "execute_result"
    },
    {
     "data": {
      "text/plain": [
       "0.9397590361445783"
      ]
     },
     "execution_count": 13,
     "metadata": {},
     "output_type": "execute_result"
    }
   ],
   "source": [
    "x_train, x_test, y_train, y_test = train_test_split(x, y, test_size=0.1, random_state=1)\n",
    "y_hat = logit.fit(x_train, y_train).predict(x_test)\n",
    "accuracy_score(y_test, y_hat)\n",
    "recall_score(y_test, y_hat)"
   ]
  },
  {
   "cell_type": "markdown",
   "id": "b47d11da",
   "metadata": {},
   "source": [
    "## 11.5 Evaluating Binary Classifier Thresholds\n",
    "Receiving Operating Characteristic (ROC) curve compares the presence of TP and FP at every probability threshold."
   ]
  },
  {
   "cell_type": "code",
   "execution_count": 15,
   "id": "9897ad6d",
   "metadata": {
    "scrolled": false
   },
   "outputs": [
    {
     "name": "stdout",
     "output_type": "stream",
     "text": [
      "(10000, 10)\n",
      "(10000,)\n"
     ]
    },
    {
     "data": {
      "text/plain": [
       "LogisticRegression()"
      ]
     },
     "execution_count": 15,
     "metadata": {},
     "output_type": "execute_result"
    },
    {
     "data": {
      "text/plain": [
       "Text(0.5, 1.0, 'Received Operating Characteristic')"
      ]
     },
     "execution_count": 15,
     "metadata": {},
     "output_type": "execute_result"
    },
    {
     "data": {
      "text/plain": [
       "[<matplotlib.lines.Line2D at 0x207c9078430>]"
      ]
     },
     "execution_count": 15,
     "metadata": {},
     "output_type": "execute_result"
    },
    {
     "data": {
      "text/plain": [
       "[<matplotlib.lines.Line2D at 0x207c9078760>]"
      ]
     },
     "execution_count": 15,
     "metadata": {},
     "output_type": "execute_result"
    },
    {
     "data": {
      "text/plain": [
       "[<matplotlib.lines.Line2D at 0x207c9078b50>]"
      ]
     },
     "execution_count": 15,
     "metadata": {},
     "output_type": "execute_result"
    },
    {
     "data": {
      "text/plain": [
       "[<matplotlib.lines.Line2D at 0x207c9078df0>]"
      ]
     },
     "execution_count": 15,
     "metadata": {},
     "output_type": "execute_result"
    },
    {
     "data": {
      "text/plain": [
       "Text(0.5, 0, 'True Positive Rate')"
      ]
     },
     "execution_count": 15,
     "metadata": {},
     "output_type": "execute_result"
    },
    {
     "data": {
      "text/plain": [
       "Text(0, 0.5, 'False Positive Rate')"
      ]
     },
     "execution_count": 15,
     "metadata": {},
     "output_type": "execute_result"
    },
    {
     "data": {
      "image/png": "[encoded data removed]",
      "text/plain": [
       "<Figure size 432x288 with 1 Axes>"
      ]
     },
     "metadata": {
      "needs_background": "light"
     },
     "output_type": "display_data"
    }
   ],
   "source": [
    "features, target = datasets.make_classification(n_samples=10000,\n",
    "                                                n_features=10,\n",
    "                                                n_informative=3,\n",
    "                                                n_classes=2,\n",
    "                                                random_state=3)\n",
    "print(features.shape)\n",
    "print(target.shape)\n",
    "features_train, features_test, target_train, target_test = train_test_split(\n",
    "    features, target, test_size=0.1, random_state=0\n",
    ")\n",
    "logit = LogisticRegression()\n",
    "logit.fit(features_train, target_train)\n",
    "# get predicted probability\n",
    "target_probability = logit.predict_proba(features_test)[:, 1]\n",
    "# create TP and FP rates\n",
    "fp, tp, threshold = roc_curve(target_test, target_probability)\n",
    "# plot roc curve\n",
    "plt.title(\"Received Operating Characteristic\")\n",
    "plt.plot(fp, tp)\n",
    "plt.plot([0, 1], ls='--')\n",
    "plt.plot([0, 0], [1, 0], c=\"0.7\")\n",
    "plt.plot([1, 1], c=\"0.7\")\n",
    "plt.xlabel(\"True Positive Rate\")\n",
    "plt.ylabel(\"False Positive Rate\")\n",
    "plt.show()"
   ]
  },
  {
   "cell_type": "code",
   "execution_count": null,
   "id": "3168d662",
   "metadata": {},
   "outputs": [],
   "source": []
  }
 ],
 "metadata": {
  "kernelspec": {
   "display_name": "Python 3",
   "language": "python",
   "name": "python3"
  },
  "language_info": {
   "codemirror_mode": {
    "name": "ipython",
    "version": 3
   },
   "file_extension": ".py",
   "mimetype": "text/x-python",
   "name": "python",
   "nbconvert_exporter": "python",
   "pygments_lexer": "ipython3",
   "version": "3.8.5"
  }
 },
 "nbformat": 4,
 "nbformat_minor": 5
}
