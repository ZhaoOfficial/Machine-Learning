{
 "cells": [
  {
   "cell_type": "markdown",
   "id": "de42ae58",
   "metadata": {},
   "source": [
    "# CHAPTER 3\n",
    "**CNN and RNN Using PyTorch**"
   ]
  },
  {
   "cell_type": "code",
   "execution_count": 1,
   "id": "e9b86d4f",
   "metadata": {},
   "outputs": [],
   "source": [
    "import torch\n",
    "from torch.nn import functional\n",
    "import torch.optim as optim\n",
    "import matplotlib.pyplot as plt"
   ]
  },
  {
   "cell_type": "markdown",
   "id": "c492db32",
   "metadata": {},
   "source": [
    "## Recipe 3-1. Setting Up a Loss Function\n",
    "In this recipe, we use another tensor as the update variable, and introduce the tensors to the sample model and compute the error or loss. Then we compute the rate of change in the loss function to measure the choice of loss function in model convergence."
   ]
  },
  {
   "cell_type": "code",
   "execution_count": 2,
   "id": "5862e3e8",
   "metadata": {},
   "outputs": [
    {
     "name": "stdout",
     "output_type": "stream",
     "text": [
      "w = tensor([1.7813])\n",
      "b = tensor([33.0874])\n",
      "x * w + b = tensor([33.9781, 58.0259, 59.8072, 82.9644, 52.6819, 47.3380, 38.4314, 25.9621,\n",
      "        43.7753, 56.2446, 70.4952])\n",
      "loss = tensor(9.7847)\n"
     ]
    }
   ],
   "source": [
    "dw = 0.01\n",
    "db = 0.01\n",
    "learning_rate = 0.001\n",
    "epoches = 10000\n",
    "\n",
    "def forward(x, w, b):\n",
    "    return w * x + b\n",
    "\n",
    "def train(x, y, w, b, loss_fn):\n",
    "    for epoch in range(epoches):\n",
    "        # gradient\n",
    "        grad_w = (loss_fn(forward(x, w + dw, b), y) - loss_fn(forward(x, w, b), y)) / dw\n",
    "        grad_b = (loss_fn(forward(x, w, b + db), y) - loss_fn(forward(x, w, b), y)) / db\n",
    "        # back propagation\n",
    "        w -= learning_rate * grad_w\n",
    "        b -= learning_rate * grad_b\n",
    "    return w, b\n",
    "\n",
    "x = torch.tensor([0.5, 14.0, 15.0, 28.0, 11.0, 8.0, 3.0, -4.0, 6.0, 13.0, 21.0])\n",
    "y = torch.tensor([35.7, 55.9, 58.2, 81.9, 56.3, 48.9, 33.9, 21.8, 48.4, 60.4, 68.4])\n",
    "w = torch.ones(1)\n",
    "b = torch.zeros(1)\n",
    "w, b = train(x, y, w, b, functional.mse_loss)\n",
    "print('w =', w)\n",
    "print('b =', b)\n",
    "print('x * w + b =', x * w + b)\n",
    "print('loss =', functional.mse_loss(x * w + b, y))"
   ]
  },
  {
   "cell_type": "markdown",
   "id": "daa23ac4",
   "metadata": {},
   "source": [
    "## Recipe 3-2. Estimating the Derivative of the Loss Function\n",
    "How do we estimate the derivative of a loss function?"
   ]
  },
  {
   "cell_type": "code",
   "execution_count": 3,
   "id": "84123499",
   "metadata": {},
   "outputs": [
    {
     "name": "stdout",
     "output_type": "stream",
     "text": [
      "w = tensor([3.4466])\n",
      "b = tensor([6.4415])\n",
      "x * w + b = tensor([  8.1648,  54.6933,  58.1398, 102.9451,  44.3536,  34.0139,  16.7811,\n",
      "         -7.3448,  27.1208,  51.2467,  78.8192])\n",
      "loss = tensor(14.8905)\n"
     ]
    }
   ],
   "source": [
    "w = torch.ones(1)\n",
    "b = torch.zeros(1)\n",
    "w, b = train(x, y, w, b, functional.l1_loss)\n",
    "print('w =', w)\n",
    "print('b =', b)\n",
    "print('x * w + b =', x * w + b)\n",
    "print('loss =', functional.l1_loss(x * w + b, y))"
   ]
  },
  {
   "cell_type": "code",
   "execution_count": 4,
   "id": "f072d60e",
   "metadata": {},
   "outputs": [
    {
     "name": "stdout",
     "output_type": "stream",
     "text": [
      "w = tensor([3.5220])\n",
      "b = tensor([5.4845])\n",
      "x * w + b = tensor([  7.2455,  54.7926,  58.3146, 104.1006,  44.2266,  33.6606,  16.0505,\n",
      "         -8.6035,  26.6165,  51.2706,  79.4466])\n",
      "loss = tensor(14.9359)\n"
     ]
    }
   ],
   "source": [
    "w = torch.ones(1)\n",
    "b = torch.zeros(1)\n",
    "w, b = train(x, y, w, b, functional.huber_loss)\n",
    "print('w =', w)\n",
    "print('b =', b)\n",
    "print('x * w + b =', x * w + b)\n",
    "print('loss =', functional.huber_loss(x * w + b, y))"
   ]
  },
  {
   "cell_type": "markdown",
   "id": "0bff1e05",
   "metadata": {},
   "source": [
    "## Recipe 3-3. Fine-Tuning a Model\n",
    "Using the backward() function."
   ]
  },
  {
   "cell_type": "code",
   "execution_count": 5,
   "id": "fee3a07a",
   "metadata": {},
   "outputs": [
    {
     "name": "stdout",
     "output_type": "stream",
     "text": [
      "w_b.grad = tensor([-989.5273,  -82.6000])\n"
     ]
    }
   ],
   "source": [
    "w_b = torch.tensor([1.0, 0.0], requires_grad=True)\n",
    "loss = functional.mse_loss(w_b[0] * x + w_b[1], y)\n",
    "# calculate gradients\n",
    "loss.backward()\n",
    "print('w_b.grad =', w_b.grad)"
   ]
  },
  {
   "cell_type": "code",
   "execution_count": 6,
   "id": "3395b9a9",
   "metadata": {},
   "outputs": [
    {
     "name": "stdout",
     "output_type": "stream",
     "text": [
      "w_b.grad = tensor([0., 0.])\n"
     ]
    }
   ],
   "source": [
    "# reset the grad, otherwise it will accumulate\n",
    "if w_b.grad is not None:\n",
    "    w_b.grad.zero_()\n",
    "print('w_b.grad =', w_b.grad)"
   ]
  },
  {
   "cell_type": "code",
   "execution_count": 7,
   "id": "cd9ff8d9",
   "metadata": {},
   "outputs": [
    {
     "name": "stdout",
     "output_type": "stream",
     "text": [
      "w = tensor(1.7928, grad_fn=<SelectBackward>)\n",
      "b = tensor(32.9719, grad_fn=<SelectBackward>)\n",
      "x * w + b = tensor([33.8683, 58.0710, 59.8638, 83.1701, 52.6927, 47.3143, 38.3503, 25.8008,\n",
      "        43.7287, 56.2782, 70.6206], grad_fn=<AddBackward0>)\n",
      "loss = tensor(9.7754, grad_fn=<MseLossBackward>)\n"
     ]
    }
   ],
   "source": [
    "w_b = torch.tensor([1.0, 0.0], requires_grad=True)\n",
    "# nearly torch version\n",
    "for epoch in range(epoches):\n",
    "    loss = functional.mse_loss(w_b[0] * x + w_b[1], y)\n",
    "    if w_b.grad is not None:\n",
    "        w_b.grad.zero_()\n",
    "    loss.backward()\n",
    "    w_b = (w_b - learning_rate * w_b.grad).detach().requires_grad_()\n",
    "\n",
    "print('w =', w_b[0])\n",
    "print('b =', w_b[1])\n",
    "print('x * w + b =', x * w_b[0] + w_b[1])\n",
    "print('loss =', functional.mse_loss(x * w_b[0] + w_b[1], y))"
   ]
  },
  {
   "cell_type": "markdown",
   "id": "2089b20d",
   "metadata": {},
   "source": [
    "## Recipe 3-4. Selecting an Optimization Function\n",
    "Optimize the gradients with the function in Recipe 3-3."
   ]
  },
  {
   "cell_type": "code",
   "execution_count": 8,
   "id": "c70051b0",
   "metadata": {},
   "outputs": [
    {
     "data": {
      "text/plain": [
       "['ASGD',\n",
       " 'Adadelta',\n",
       " 'Adagrad',\n",
       " 'Adam',\n",
       " 'AdamW',\n",
       " 'Adamax',\n",
       " 'LBFGS',\n",
       " 'Optimizer',\n",
       " 'RMSprop',\n",
       " 'Rprop',\n",
       " 'SGD',\n",
       " 'SparseAdam',\n",
       " '__builtins__',\n",
       " '__cached__',\n",
       " '__doc__',\n",
       " '__file__',\n",
       " '__loader__',\n",
       " '__name__',\n",
       " '__package__',\n",
       " '__path__',\n",
       " '__spec__',\n",
       " '_functional',\n",
       " '_multi_tensor',\n",
       " 'lr_scheduler',\n",
       " 'swa_utils']"
      ]
     },
     "execution_count": 8,
     "metadata": {},
     "output_type": "execute_result"
    }
   ],
   "source": [
    "# optimization class\n",
    "dir(optim)"
   ]
  },
  {
   "cell_type": "code",
   "execution_count": 9,
   "id": "63a096e6",
   "metadata": {},
   "outputs": [
    {
     "name": "stdout",
     "output_type": "stream",
     "text": [
      "w = tensor(1.7928, grad_fn=<SelectBackward>)\n",
      "b = tensor(32.9719, grad_fn=<SelectBackward>)\n",
      "x * w + b = tensor([33.8683, 58.0710, 59.8638, 83.1701, 52.6927, 47.3143, 38.3503, 25.8008,\n",
      "        43.7287, 56.2782, 70.6206], grad_fn=<AddBackward0>)\n",
      "loss = tensor(9.7754, grad_fn=<MseLossBackward>)\n"
     ]
    }
   ],
   "source": [
    "w_b = torch.tensor([1.0, 0.0], requires_grad=True)\n",
    "# SGD version\n",
    "optimizer = optim.SGD([w_b], lr=learning_rate)\n",
    "# quite-nearly torch version\n",
    "for epoch in range(epoches):\n",
    "    loss = functional.mse_loss(w_b[0] * x + w_b[1], y)\n",
    "    optimizer.zero_grad()\n",
    "    loss.backward()\n",
    "    optimizer.step()\n",
    "\n",
    "print('w =', w_b[0])\n",
    "print('b =', w_b[1])\n",
    "print('x * w + b =', x * w_b[0] + w_b[1])\n",
    "print('loss =', functional.mse_loss(x * w_b[0] + w_b[1], y))"
   ]
  },
  {
   "cell_type": "code",
   "execution_count": 10,
   "id": "ec7de38d",
   "metadata": {},
   "outputs": [
    {
     "name": "stdout",
     "output_type": "stream",
     "text": [
      "w = tensor(1.7923, grad_fn=<SelectBackward>)\n",
      "b = tensor(32.9810, grad_fn=<SelectBackward>)\n",
      "x * w + b = tensor([33.8772, 58.0729, 59.8652, 83.1648, 52.6961, 47.3193, 38.3579, 25.8119,\n",
      "        43.7347, 56.2806, 70.6189], grad_fn=<AddBackward0>)\n",
      "loss = tensor(9.7754, grad_fn=<MseLossBackward>)\n"
     ]
    }
   ],
   "source": [
    "w_b = torch.tensor([1.0, 0.0], requires_grad=True)\n",
    "# Adam version\n",
    "optimizer = optim.Adam([w_b], lr=0.1)\n",
    "# quite-nearly torch version\n",
    "for epoch in range(epoches):\n",
    "    loss = functional.mse_loss(w_b[0] * x + w_b[1], y)\n",
    "    optimizer.zero_grad()\n",
    "    loss.backward()\n",
    "    optimizer.step()\n",
    "\n",
    "print('w =', w_b[0])\n",
    "print('b =', w_b[1])\n",
    "print('x * w + b =', x * w_b[0] + w_b[1])\n",
    "print('loss =', functional.mse_loss(x * w_b[0] + w_b[1], y))"
   ]
  },
  {
   "cell_type": "code",
   "execution_count": 11,
   "id": "d1866f79",
   "metadata": {},
   "outputs": [
    {
     "data": {
      "text/plain": [
       "[<matplotlib.lines.Line2D at 0x1c059fdd790>]"
      ]
     },
     "execution_count": 11,
     "metadata": {},
     "output_type": "execute_result"
    },
    {
     "data": {
      "image/png": "[encoded data removed]",
      "text/plain": [
       "<Figure size 432x288 with 1 Axes>"
      ]
     },
     "metadata": {
      "needs_background": "light"
     },
     "output_type": "display_data"
    }
   ],
   "source": [
    "plt.figure()\n",
    "plt.plot(x, y, 'o')\n",
    "plt.plot(x, (x * w_b[0] + w_b[1]).detach().numpy(), '-')"
   ]
  },
  {
   "cell_type": "markdown",
   "id": "d62cca50",
   "metadata": {},
   "source": [
    "## Recipe 3-5. Further Optimizing the Function Problem\n",
    "How do we optimize the training set and test it with a validation set using random samples?"
   ]
  },
  {
   "cell_type": "code",
   "execution_count": 12,
   "id": "114229e3",
   "metadata": {},
   "outputs": [
    {
     "name": "stdout",
     "output_type": "stream",
     "text": [
      "training_indices: tensor([ 9, 10,  8,  7,  4,  5,  1,  0,  3])\n",
      "testing_indices: tensor([6, 2])\n"
     ]
    }
   ],
   "source": [
    "n_training = x.shape[0]\n",
    "n_testing = int(0.2 * n_training)\n",
    "\n",
    "shuffled_indices = torch.randperm(n_training)\n",
    "training_indices = shuffled_indices[:-n_testing]\n",
    "testing_indices = shuffled_indices[-n_testing:]\n",
    "\n",
    "print(\"training_indices:\", training_indices)\n",
    "print(\"testing_indices:\", testing_indices)"
   ]
  },
  {
   "cell_type": "code",
   "execution_count": 13,
   "id": "a548839d",
   "metadata": {},
   "outputs": [
    {
     "name": "stdout",
     "output_type": "stream",
     "text": [
      "w = tensor(1.7561, grad_fn=<SelectBackward>)\n",
      "b = tensor(34.0546, grad_fn=<SelectBackward>)\n",
      "x_training_set * w + b = tensor([56.8835, 70.9321, 44.5910, 27.0303, 53.3714, 48.1032, 58.6396, 34.9327,\n",
      "        83.2246], grad_fn=<AddBackward0>)\n",
      "training_loss = tensor(8.8558, grad_fn=<MseLossBackward>)\n",
      "testing_loss = tensor(17.1140, grad_fn=<MseLossBackward>)\n"
     ]
    }
   ],
   "source": [
    "x_training_set = x[training_indices]\n",
    "y_training_set = y[training_indices]\n",
    "x_testing_set = x[testing_indices]\n",
    "y_testing_set = y[testing_indices]\n",
    "\n",
    "w_b = torch.tensor([1.0, 0.0], requires_grad=True)\n",
    "optimizer = optim.Adam([w_b], lr=0.1)\n",
    "# can-not-be-more-near torch version\n",
    "# training\n",
    "for epoch in range(epoches):\n",
    "    loss = functional.mse_loss(w_b[0] * x_training_set + w_b[1], y_training_set)\n",
    "    optimizer.zero_grad()\n",
    "    loss.backward()\n",
    "    optimizer.step()\n",
    "\n",
    "print('w =', w_b[0])\n",
    "print('b =', w_b[1])\n",
    "print('x_training_set * w + b =', x_training_set * w_b[0] + w_b[1])\n",
    "print('training_loss =', functional.mse_loss(x_training_set * w_b[0] + w_b[1], y_training_set))\n",
    "print('testing_loss =', functional.mse_loss(x_testing_set * w_b[0] + w_b[1], y_testing_set))"
   ]
  }
 ],
 "metadata": {
  "kernelspec": {
   "display_name": "Python 3",
   "language": "python",
   "name": "python3"
  },
  "language_info": {
   "codemirror_mode": {
    "name": "ipython",
    "version": 3
   },
   "file_extension": ".py",
   "mimetype": "text/x-python",
   "name": "python",
   "nbconvert_exporter": "python",
   "pygments_lexer": "ipython3",
   "version": "3.8.5"
  }
 },
 "nbformat": 4,
 "nbformat_minor": 5
}
