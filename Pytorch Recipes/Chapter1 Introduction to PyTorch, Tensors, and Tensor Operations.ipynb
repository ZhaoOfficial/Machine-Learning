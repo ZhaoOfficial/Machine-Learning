{
 "cells": [
  {
   "cell_type": "markdown",
   "metadata": {},
   "source": [
    "# Chapter 1\n",
    "**Introduction to PyTorch, Tensors, and Tensor Operations**\n",
    "\n",
    "PyTorch is the most optimized high-performance tensor libaray for computation of deep learning tasks on GPUs and CPUs."
   ]
  },
  {
   "cell_type": "code",
   "execution_count": 1,
   "metadata": {},
   "outputs": [
    {
     "name": "stdout",
     "output_type": "stream",
     "text": [
      "1.9.0\n"
     ]
    }
   ],
   "source": [
    "import torch\n",
    "print(torch.version.__version__)\n",
    "import numpy as np"
   ]
  },
  {
   "cell_type": "markdown",
   "metadata": {},
   "source": [
    "## Recipe 1-1 Using Tensors Problem\n",
    "Problem: The data structure used in PyTorch is graph based and tensor based, therefore, it is important to understand basic operations and defining tensors."
   ]
  },
  {
   "cell_type": "code",
   "execution_count": 2,
   "metadata": {},
   "outputs": [],
   "source": [
    "x = [12, 23, 34, 45, 56, 67, 78]"
   ]
  },
  {
   "cell_type": "code",
   "execution_count": 3,
   "metadata": {},
   "outputs": [
    {
     "data": {
      "text/plain": [
       "False"
      ]
     },
     "execution_count": 3,
     "metadata": {},
     "output_type": "execute_result"
    }
   ],
   "source": [
    "# Check whether an object is a tensor\n",
    "torch.is_tensor(x)"
   ]
  },
  {
   "cell_type": "code",
   "execution_count": 4,
   "metadata": {},
   "outputs": [
    {
     "data": {
      "text/plain": [
       "False"
      ]
     },
     "execution_count": 4,
     "metadata": {},
     "output_type": "execute_result"
    }
   ],
   "source": [
    "# Checks whether the object is stored as tensor object\n",
    "torch.is_storage(x)"
   ]
  },
  {
   "cell_type": "code",
   "execution_count": 5,
   "metadata": {},
   "outputs": [],
   "source": [
    "y = torch.randn(1, 2, 3, 4, 5)"
   ]
  },
  {
   "cell_type": "code",
   "execution_count": 6,
   "metadata": {},
   "outputs": [
    {
     "data": {
      "text/plain": [
       "True"
      ]
     },
     "execution_count": 6,
     "metadata": {},
     "output_type": "execute_result"
    }
   ],
   "source": [
    "torch.is_tensor(y)"
   ]
  },
  {
   "cell_type": "code",
   "execution_count": 7,
   "metadata": {},
   "outputs": [
    {
     "data": {
      "text/plain": [
       "False"
      ]
     },
     "execution_count": 7,
     "metadata": {},
     "output_type": "execute_result"
    }
   ],
   "source": [
    "torch.is_storage(y)"
   ]
  },
  {
   "cell_type": "code",
   "execution_count": 8,
   "metadata": {},
   "outputs": [
    {
     "data": {
      "text/plain": [
       "120"
      ]
     },
     "execution_count": 8,
     "metadata": {},
     "output_type": "execute_result"
    }
   ],
   "source": [
    "# total number of elements in the input Tensor\n",
    "torch.numel(y)"
   ]
  },
  {
   "cell_type": "code",
   "execution_count": 9,
   "metadata": {},
   "outputs": [
    {
     "data": {
      "text/plain": [
       "tensor([[1., 0., 0., 0.],\n",
       "        [0., 1., 0., 0.],\n",
       "        [0., 0., 1., 0.]])"
      ]
     },
     "execution_count": 9,
     "metadata": {},
     "output_type": "execute_result"
    }
   ],
   "source": [
    "torch.eye(3, 4)"
   ]
  },
  {
   "cell_type": "code",
   "execution_count": 10,
   "metadata": {},
   "outputs": [
    {
     "data": {
      "text/plain": [
       "tensor([[1., 0., 0., 0.],\n",
       "        [0., 1., 0., 0.],\n",
       "        [0., 0., 1., 0.],\n",
       "        [0., 0., 0., 1.],\n",
       "        [0., 0., 0., 0.]])"
      ]
     },
     "execution_count": 10,
     "metadata": {},
     "output_type": "execute_result"
    }
   ],
   "source": [
    "torch.eye(5, 4)"
   ]
  },
  {
   "cell_type": "code",
   "execution_count": 11,
   "metadata": {},
   "outputs": [
    {
     "data": {
      "text/plain": [
       "array([12, 23, 34, 45, 56, 67, 78])"
      ]
     },
     "execution_count": 11,
     "metadata": {},
     "output_type": "execute_result"
    }
   ],
   "source": [
    "x1 = np.array(x)\n",
    "x1"
   ]
  },
  {
   "cell_type": "code",
   "execution_count": 12,
   "metadata": {},
   "outputs": [
    {
     "data": {
      "text/plain": [
       "tensor([12, 23, 34, 45, 56, 67, 78], dtype=torch.int32)"
      ]
     },
     "execution_count": 12,
     "metadata": {},
     "output_type": "execute_result"
    }
   ],
   "source": [
    "# create tensor from numpy array\n",
    "torch.from_numpy(x1)"
   ]
  },
  {
   "cell_type": "code",
   "execution_count": 13,
   "metadata": {},
   "outputs": [
    {
     "data": {
      "text/plain": [
       "tensor([ 0.,  2.,  4.,  6.,  8., 10.])"
      ]
     },
     "execution_count": 13,
     "metadata": {},
     "output_type": "execute_result"
    }
   ],
   "source": [
    "torch.linspace(0, 10, 6)"
   ]
  },
  {
   "cell_type": "code",
   "execution_count": 14,
   "metadata": {},
   "outputs": [
    {
     "data": {
      "text/plain": [
       "tensor([1.0000e+00, 1.0000e+01, 1.0000e+02, 1.0000e+03, 1.0000e+04, 1.0000e+05])"
      ]
     },
     "execution_count": 14,
     "metadata": {},
     "output_type": "execute_result"
    }
   ],
   "source": [
    "torch.logspace(0, 5, 6)"
   ]
  },
  {
   "cell_type": "code",
   "execution_count": 15,
   "metadata": {},
   "outputs": [
    {
     "data": {
      "text/plain": [
       "tensor([0.6884, 0.9997, 0.4533, 0.3848, 0.8632])"
      ]
     },
     "execution_count": 15,
     "metadata": {},
     "output_type": "execute_result"
    }
   ],
   "source": [
    "# uniform distribution\n",
    "torch.rand(5)"
   ]
  },
  {
   "cell_type": "code",
   "execution_count": 16,
   "metadata": {},
   "outputs": [
    {
     "data": {
      "text/plain": [
       "tensor([-0.2242, -0.2139,  1.2971, -0.6188,  0.1633])"
      ]
     },
     "execution_count": 16,
     "metadata": {},
     "output_type": "execute_result"
    }
   ],
   "source": [
    "# normal distribution\n",
    "torch.randn(5)"
   ]
  },
  {
   "cell_type": "code",
   "execution_count": 17,
   "metadata": {},
   "outputs": [
    {
     "data": {
      "text/plain": [
       "tensor([2, 8, 1, 6, 5, 0, 7, 4, 3, 9])"
      ]
     },
     "execution_count": 17,
     "metadata": {},
     "output_type": "execute_result"
    }
   ],
   "source": [
    "# random permutation\n",
    "torch.randperm(10)"
   ]
  },
  {
   "cell_type": "code",
   "execution_count": 18,
   "metadata": {},
   "outputs": [
    {
     "data": {
      "text/plain": [
       "tensor([0, 2, 4])"
      ]
     },
     "execution_count": 18,
     "metadata": {},
     "output_type": "execute_result"
    }
   ],
   "source": [
    "# range\n",
    "torch.arange(0, 6, 2)"
   ]
  },
  {
   "cell_type": "code",
   "execution_count": 19,
   "metadata": {},
   "outputs": [
    {
     "data": {
      "text/plain": [
       "tensor([[ 1.4988,  0.7820,  1.1093, -0.7197,  2.2248],\n",
       "        [ 0.8712,  0.8407, -0.4717,  0.8201,  1.1824],\n",
       "        [-0.4169,  0.6827, -1.5203,  0.8765, -0.5428],\n",
       "        [-1.7168, -0.5058,  0.9082, -1.0186, -1.0988]])"
      ]
     },
     "execution_count": 19,
     "metadata": {},
     "output_type": "execute_result"
    }
   ],
   "source": [
    "d = torch.randn(4, 5)\n",
    "d"
   ]
  },
  {
   "cell_type": "code",
   "execution_count": 20,
   "metadata": {},
   "outputs": [
    {
     "data": {
      "text/plain": [
       "tensor([4, 4, 3, 2])"
      ]
     },
     "execution_count": 20,
     "metadata": {},
     "output_type": "execute_result"
    }
   ],
   "source": [
    "torch.argmax(d, dim=1)"
   ]
  },
  {
   "cell_type": "code",
   "execution_count": 21,
   "metadata": {},
   "outputs": [
    {
     "data": {
      "text/plain": [
       "tensor(15)"
      ]
     },
     "execution_count": 21,
     "metadata": {},
     "output_type": "execute_result"
    }
   ],
   "source": [
    "torch.argmin(d)"
   ]
  },
  {
   "cell_type": "code",
   "execution_count": 22,
   "metadata": {},
   "outputs": [
    {
     "data": {
      "text/plain": [
       "tensor([[0., 0., 0., 0.],\n",
       "        [0., 0., 0., 0.],\n",
       "        [0., 0., 0., 0.]])"
      ]
     },
     "execution_count": 22,
     "metadata": {},
     "output_type": "execute_result"
    }
   ],
   "source": [
    "torch.zeros(3, 4)"
   ]
  },
  {
   "cell_type": "code",
   "execution_count": 23,
   "metadata": {},
   "outputs": [
    {
     "data": {
      "text/plain": [
       "tensor([[ 1.4988,  0.7820,  1.1093, -0.7197,  2.2248],\n",
       "        [ 0.8712,  0.8407, -0.4717,  0.8201,  1.1824],\n",
       "        [-0.4169,  0.6827, -1.5203,  0.8765, -0.5428],\n",
       "        [-1.7168, -0.5058,  0.9082, -1.0186, -1.0988],\n",
       "        [ 1.4988,  0.7820,  1.1093, -0.7197,  2.2248],\n",
       "        [ 0.8712,  0.8407, -0.4717,  0.8201,  1.1824],\n",
       "        [-0.4169,  0.6827, -1.5203,  0.8765, -0.5428],\n",
       "        [-1.7168, -0.5058,  0.9082, -1.0186, -1.0988]])"
      ]
     },
     "execution_count": 23,
     "metadata": {},
     "output_type": "execute_result"
    }
   ],
   "source": [
    "# concatenate along the rows\n",
    "torch.cat((d, d), axis=0)"
   ]
  },
  {
   "cell_type": "code",
   "execution_count": 24,
   "metadata": {},
   "outputs": [
    {
     "data": {
      "text/plain": [
       "tensor([[ 1.4988,  0.7820,  1.1093, -0.7197,  2.2248,  1.4988,  0.7820,  1.1093,\n",
       "         -0.7197,  2.2248],\n",
       "        [ 0.8712,  0.8407, -0.4717,  0.8201,  1.1824,  0.8712,  0.8407, -0.4717,\n",
       "          0.8201,  1.1824],\n",
       "        [-0.4169,  0.6827, -1.5203,  0.8765, -0.5428, -0.4169,  0.6827, -1.5203,\n",
       "          0.8765, -0.5428],\n",
       "        [-1.7168, -0.5058,  0.9082, -1.0186, -1.0988, -1.7168, -0.5058,  0.9082,\n",
       "         -1.0186, -1.0988]])"
      ]
     },
     "execution_count": 24,
     "metadata": {},
     "output_type": "execute_result"
    }
   ],
   "source": [
    "# concatenate along the cols\n",
    "torch.cat((d, d), axis=1)"
   ]
  },
  {
   "cell_type": "code",
   "execution_count": 25,
   "metadata": {},
   "outputs": [
    {
     "data": {
      "text/plain": [
       "(tensor([[ 1.4988,  0.7820,  1.1093, -0.7197,  2.2248],\n",
       "         [ 0.8712,  0.8407, -0.4717,  0.8201,  1.1824]]),\n",
       " tensor([[-0.4169,  0.6827, -1.5203,  0.8765, -0.5428],\n",
       "         [-1.7168, -0.5058,  0.9082, -1.0186, -1.0988]]))"
      ]
     },
     "execution_count": 25,
     "metadata": {},
     "output_type": "execute_result"
    }
   ],
   "source": [
    "# split the tensor along the row\n",
    "torch.chunk(d, 2, axis=0)"
   ]
  },
  {
   "cell_type": "code",
   "execution_count": 26,
   "metadata": {},
   "outputs": [
    {
     "data": {
      "text/plain": [
       "(tensor([[ 1.4988,  0.7820,  1.1093],\n",
       "         [ 0.8712,  0.8407, -0.4717],\n",
       "         [-0.4169,  0.6827, -1.5203],\n",
       "         [-1.7168, -0.5058,  0.9082]]),\n",
       " tensor([[-0.7197,  2.2248],\n",
       "         [ 0.8201,  1.1824],\n",
       "         [ 0.8765, -0.5428],\n",
       "         [-1.0186, -1.0988]]))"
      ]
     },
     "execution_count": 26,
     "metadata": {},
     "output_type": "execute_result"
    }
   ],
   "source": [
    "# split the tensor along the row\n",
    "torch.chunk(d, 2, axis=1)"
   ]
  },
  {
   "cell_type": "code",
   "execution_count": 27,
   "metadata": {},
   "outputs": [
    {
     "data": {
      "text/plain": [
       "(tensor([0, 1, 2]), tensor([3, 4, 5]), tensor([6, 7]))"
      ]
     },
     "execution_count": 27,
     "metadata": {},
     "output_type": "execute_result"
    }
   ],
   "source": [
    "# split the 1D tensor into chunks\n",
    "torch.split(torch.arange(8), 3)"
   ]
  },
  {
   "cell_type": "code",
   "execution_count": 28,
   "metadata": {},
   "outputs": [
    {
     "data": {
      "text/plain": [
       "tensor([[1, 1],\n",
       "        [4, 3]])"
      ]
     },
     "execution_count": 28,
     "metadata": {},
     "output_type": "execute_result"
    }
   ],
   "source": [
    "# gather function\n",
    "# selected tensor, dim, index tensor\n",
    "torch.gather(torch.tensor([[1, 2], [3, 4]]), 1,\n",
    "             torch.tensor([[0, 0], [1, 0]]))"
   ]
  },
  {
   "cell_type": "code",
   "execution_count": 29,
   "metadata": {},
   "outputs": [
    {
     "name": "stdout",
     "output_type": "stream",
     "text": [
      "tensor([[-1.1874, -0.3550, -0.9898, -0.6189],\n",
      "        [ 1.1864,  1.1604,  0.4877,  0.4427],\n",
      "        [ 2.7553, -0.2464, -0.0495,  0.9362],\n",
      "        [-0.1548, -0.1142,  0.4113, -0.6319]])\n",
      "tensor([[-1.1874, -0.3550, -0.9898, -0.6189],\n",
      "        [ 2.7553, -0.2464, -0.0495,  0.9362]])\n",
      "tensor([[-1.1874, -0.9898],\n",
      "        [ 1.1864,  0.4877],\n",
      "        [ 2.7553, -0.0495],\n",
      "        [-0.1548,  0.4113]])\n"
     ]
    }
   ],
   "source": [
    "a = torch.randn(4, 4)\n",
    "indices = torch.tensor([0, 2])\n",
    "print(a)\n",
    "# along the row\n",
    "print(torch.index_select(a, 0, indices))\n",
    "# along the column\n",
    "print(torch.index_select(a, 1, indices))"
   ]
  },
  {
   "cell_type": "code",
   "execution_count": 30,
   "metadata": {},
   "outputs": [
    {
     "data": {
      "text/plain": [
       "tensor([[0],\n",
       "        [1],\n",
       "        [2]])"
      ]
     },
     "execution_count": 30,
     "metadata": {},
     "output_type": "execute_result"
    }
   ],
   "source": [
    "# return the index of nonzero elements in tensor\n",
    "torch.nonzero(torch.tensor([10, 20, 30, 0, 0.0]))"
   ]
  },
  {
   "cell_type": "code",
   "execution_count": 31,
   "metadata": {},
   "outputs": [
    {
     "data": {
      "text/plain": [
       "tensor([[ 0.9033, -0.1929, -0.7468, -0.3164, -0.8901],\n",
       "        [ 0.4914, -0.6321, -0.5446,  0.3563,  0.3636],\n",
       "        [-0.3728, -0.3397, -2.3241,  1.8920, -1.1631],\n",
       "        [-2.3113,  1.6245,  0.7958, -1.1334, -0.4528]])"
      ]
     },
     "execution_count": 31,
     "metadata": {},
     "output_type": "execute_result"
    }
   ],
   "source": [
    "x = torch.randn(5, 4)\n",
    "# transpose for 2D tensor\n",
    "x.t()"
   ]
  },
  {
   "cell_type": "code",
   "execution_count": 32,
   "metadata": {},
   "outputs": [
    {
     "data": {
      "text/plain": [
       "tensor([[ 0.9033, -0.1929, -0.7468, -0.3164, -0.8901],\n",
       "        [ 0.4914, -0.6321, -0.5446,  0.3563,  0.3636],\n",
       "        [-0.3728, -0.3397, -2.3241,  1.8920, -1.1631],\n",
       "        [-2.3113,  1.6245,  0.7958, -1.1334, -0.4528]])"
      ]
     },
     "execution_count": 32,
     "metadata": {},
     "output_type": "execute_result"
    }
   ],
   "source": [
    "# transpose along these two axis\n",
    "# for ndim tensor\n",
    "# x.transpose(a, b) == x.transpose(b, a)\n",
    "x.transpose(0, 1)"
   ]
  },
  {
   "cell_type": "code",
   "execution_count": 33,
   "metadata": {},
   "outputs": [
    {
     "data": {
      "text/plain": [
       "(tensor([ 0.9033,  0.4914, -0.3728, -2.3113]),\n",
       " tensor([-0.1929, -0.6321, -0.3397,  1.6245]),\n",
       " tensor([-0.7468, -0.5446, -2.3241,  0.7958]),\n",
       " tensor([-0.3164,  0.3563,  1.8920, -1.1334]),\n",
       " tensor([-0.8901,  0.3636, -1.1631, -0.4528]))"
      ]
     },
     "execution_count": 33,
     "metadata": {},
     "output_type": "execute_result"
    }
   ],
   "source": [
    "# remove row index\n",
    "torch.unbind(x, 0)"
   ]
  },
  {
   "cell_type": "code",
   "execution_count": 34,
   "metadata": {},
   "outputs": [
    {
     "data": {
      "text/plain": [
       "(tensor([ 0.9033, -0.1929, -0.7468, -0.3164, -0.8901]),\n",
       " tensor([ 0.4914, -0.6321, -0.5446,  0.3563,  0.3636]),\n",
       " tensor([-0.3728, -0.3397, -2.3241,  1.8920, -1.1631]),\n",
       " tensor([-2.3113,  1.6245,  0.7958, -1.1334, -0.4528]))"
      ]
     },
     "execution_count": 34,
     "metadata": {},
     "output_type": "execute_result"
    }
   ],
   "source": [
    "# remove col index\n",
    "torch.unbind(x, 1)"
   ]
  },
  {
   "cell_type": "code",
   "execution_count": 35,
   "metadata": {},
   "outputs": [
    {
     "name": "stdout",
     "output_type": "stream",
     "text": [
      "tensor([[-0.3296,  1.0179,  0.7032],\n",
      "        [ 1.7873,  0.4935, -1.9258]])\n",
      "tensor([[ 9.6704, 11.0179, 10.7032],\n",
      "        [11.7873, 10.4935,  8.0742]])\n",
      "tensor([[ -3.2956,  10.1789,   7.0315],\n",
      "        [ 17.8727,   4.9352, -19.2578]])\n",
      "tensor([[-0.,  2.,  1.],\n",
      "        [ 2.,  1., -1.]])\n",
      "tensor([[-1.,  1.,  0.],\n",
      "        [ 1.,  0., -2.]])\n",
      "tensor([[-0.3296,  0.5000,  0.5000],\n",
      "        [ 0.5000,  0.4935, -0.5000]])\n",
      "tensor([[0.7192, 2.7673, 2.0201],\n",
      "        [5.9731, 1.6381, 0.1458]])\n",
      "tensor([[-0.3296,  0.0179,  0.7032],\n",
      "        [ 0.7873,  0.4935, -0.9258]])\n",
      "tensor([[-0.3998,  0.7021,  0.5325],\n",
      "        [ 1.0251,  0.4011,     nan]])\n"
     ]
    }
   ],
   "source": [
    "# math functions\n",
    "x = torch.randn(2, 3)\n",
    "print(x)\n",
    "print(torch.add(x, 10))\n",
    "print(torch.mul(x, 10))\n",
    "print(torch.ceil(x))\n",
    "print(torch.floor(x))\n",
    "print(torch.clamp(x, min=-0.5, max=0.5))\n",
    "print(torch.exp(x))\n",
    "# the fraction part of the element\n",
    "print(torch.frac(x))\n",
    "# log(x + 1)\n",
    "print(torch.log1p(x))"
   ]
  }
 ],
 "metadata": {
  "kernelspec": {
   "display_name": "Python 3",
   "language": "python",
   "name": "python3"
  },
  "language_info": {
   "codemirror_mode": {
    "name": "ipython",
    "version": 3
   },
   "file_extension": ".py",
   "mimetype": "text/x-python",
   "name": "python",
   "nbconvert_exporter": "python",
   "pygments_lexer": "ipython3",
   "version": "3.8.8"
  }
 },
 "nbformat": 4,
 "nbformat_minor": 4
}
