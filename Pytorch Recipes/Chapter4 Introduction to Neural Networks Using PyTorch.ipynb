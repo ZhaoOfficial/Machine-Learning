{
 "cells": [
  {
   "cell_type": "markdown",
   "id": "41d206db",
   "metadata": {},
   "source": [
    "# CHAPTER 4\n",
    "**Introduction to Neural Networks Using PyTorch**"
   ]
  },
  {
   "cell_type": "code",
   "execution_count": 1,
   "id": "068d7f4a",
   "metadata": {},
   "outputs": [],
   "source": [
    "import numpy as np\n",
    "import torch\n",
    "import torch.nn as nn\n",
    "from torch.autograd import Variable\n",
    "\n",
    "import numpy as np\n",
    "import matplotlib.pyplot as plt\n",
    "%matplotlib inline\n",
    "import sklearn"
   ]
  },
  {
   "cell_type": "markdown",
   "id": "3fe02dcb",
   "metadata": {},
   "source": [
    "## Recipe 4-1. Working with Activation Functions\n",
    "\n",
    "Linear Function\n",
    "$$\n",
    "y=\\alpha x +\\beta\n",
    "$$\n",
    "Bilinear Function\n",
    "$$\n",
    "y = x_1Ax_2+b\n",
    "$$\n",
    "Sigmoid Function\n",
    "$$\n",
    "\\sigma(x)=\\frac{1}{1+e^{-\\beta x}}\n",
    "$$\n",
    "Hyperbolic Tangent Function\n",
    "$$\n",
    "tanh(x)=\\frac{e^{x}-e^{-x}}{e^{x}+e^{-x}}\n",
    "$$\n",
    "Log Sigmoid Transfer Function\n",
    "$$\n",
    "f(x)=\\log(\\frac{1}{1+e^{-\\beta x}})\n",
    "$$\n",
    "ReLU Function\n",
    "$$\n",
    "f(x)=\\max(0,x)\n",
    "$$\n",
    "Leaky ReLU\n",
    "$$\n",
    "f(x)=\\max(0,x)+\\gamma\\min(0,x)\n",
    "$$"
   ]
  },
  {
   "cell_type": "code",
   "execution_count": 2,
   "id": "57e1b329",
   "metadata": {},
   "outputs": [],
   "source": [
    "x = Variable(torch.randn(100, 10))\n",
    "y = Variable(torch.randn(100, 30))"
   ]
  },
  {
   "cell_type": "code",
   "execution_count": 3,
   "id": "8d321dd7",
   "metadata": {},
   "outputs": [
    {
     "name": "stdout",
     "output_type": "stream",
     "text": [
      "Output size = torch.Size([100, 5])\n",
      "Weight size = torch.Size([5, 10])\n",
      "Output size = torch.Size([100, 5])\n",
      "Weight size = torch.Size([5, 10, 30])\n"
     ]
    }
   ],
   "source": [
    "linear = nn.Linear(\n",
    "    in_features=10,\n",
    "    out_features=5,\n",
    "    bias=True\n",
    ")\n",
    "out = linear(x)\n",
    "print(\"Output size =\", out.size())\n",
    "print(\"Weight size =\", linear.weight.size())\n",
    "\n",
    "bilinear = nn.Bilinear(\n",
    "    in1_features=10,\n",
    "    in2_features=30,\n",
    "    out_features=5,\n",
    "    bias=True\n",
    ")\n",
    "out = bilinear(x, y)\n",
    "print(\"Output size =\", out.size())\n",
    "print(\"Weight size =\", bilinear.weight.size())"
   ]
  },
  {
   "cell_type": "code",
   "execution_count": 4,
   "id": "2ad4c1f3",
   "metadata": {},
   "outputs": [
    {
     "name": "stdout",
     "output_type": "stream",
     "text": [
      "Output size = torch.Size([100, 10])\n",
      "Output size = torch.Size([100, 10])\n",
      "Output size = torch.Size([100, 10])\n"
     ]
    }
   ],
   "source": [
    "sigmoid = nn.Sigmoid()\n",
    "out = sigmoid(x)\n",
    "print(\"Output size =\", out.size())\n",
    "\n",
    "tanh = nn.Tanh()\n",
    "out = tanh(x)\n",
    "print(\"Output size =\", out.size())\n",
    "\n",
    "logsigmoid = nn.LogSigmoid()\n",
    "out = logsigmoid(x)\n",
    "print(\"Output size =\", out.size())"
   ]
  },
  {
   "cell_type": "code",
   "execution_count": 5,
   "id": "0e7e0994",
   "metadata": {},
   "outputs": [
    {
     "name": "stdout",
     "output_type": "stream",
     "text": [
      "Output size = torch.Size([100, 10])\n",
      "Output size = torch.Size([100, 10])\n"
     ]
    }
   ],
   "source": [
    "relu = nn.ReLU()\n",
    "out = relu(x)\n",
    "print(\"Output size =\", out.size())\n",
    "\n",
    "leakyrelu = nn.LeakyReLU()\n",
    "out = leakyrelu(x)\n",
    "print(\"Output size =\", out.size())"
   ]
  },
  {
   "cell_type": "markdown",
   "id": "7c6c864a",
   "metadata": {},
   "source": [
    "## Recipe 4-2. Visualizing the Shape of Activation Functions"
   ]
  },
  {
   "cell_type": "code",
   "execution_count": 6,
   "id": "14f0814e",
   "metadata": {},
   "outputs": [],
   "source": [
    "x = Variable(torch.linspace(-10, 10, 100))\n",
    "y_relu = nn.functional.relu(x)\n",
    "y_sigmoid = torch.sigmoid(x)\n",
    "y_tanh = torch.tanh(x)\n",
    "y_logsigmoid = nn.functional.logsigmoid(x)\n",
    "y_softplus = nn.functional.softplus(x)"
   ]
  },
  {
   "cell_type": "code",
   "execution_count": 7,
   "id": "86be53d2",
   "metadata": {},
   "outputs": [
    {
     "data": {
      "text/plain": [
       "<matplotlib.legend.Legend at 0x28e54b2a7f0>"
      ]
     },
     "execution_count": 7,
     "metadata": {},
     "output_type": "execute_result"
    },
    {
     "data": {
      "image/png": "[encoded data removed]",
      "text/plain": [
       "<Figure size 432x288 with 1 Axes>"
      ]
     },
     "metadata": {
      "needs_background": "light"
     },
     "output_type": "display_data"
    }
   ],
   "source": [
    "plt.figure()\n",
    "plt.plot(x, y_relu, 'b-', label='relu')\n",
    "plt.legend()"
   ]
  },
  {
   "cell_type": "code",
   "execution_count": 8,
   "id": "99fee78b",
   "metadata": {},
   "outputs": [
    {
     "data": {
      "text/plain": [
       "<matplotlib.legend.Legend at 0x28e552b27c0>"
      ]
     },
     "execution_count": 8,
     "metadata": {},
     "output_type": "execute_result"
    },
    {
     "data": {
      "image/png": "[encoded data removed]",
      "text/plain": [
       "<Figure size 432x288 with 1 Axes>"
      ]
     },
     "metadata": {
      "needs_background": "light"
     },
     "output_type": "display_data"
    }
   ],
   "source": [
    "plt.figure()\n",
    "plt.plot(x, y_sigmoid, 'b-', label='sigmoid')\n",
    "plt.legend()"
   ]
  },
  {
   "cell_type": "code",
   "execution_count": 9,
   "id": "f400926a",
   "metadata": {},
   "outputs": [
    {
     "data": {
      "text/plain": [
       "<matplotlib.legend.Legend at 0x28e5537e100>"
      ]
     },
     "execution_count": 9,
     "metadata": {},
     "output_type": "execute_result"
    },
    {
     "data": {
      "image/png": "[encoded data removed]",
      "text/plain": [
       "<Figure size 432x288 with 1 Axes>"
      ]
     },
     "metadata": {
      "needs_background": "light"
     },
     "output_type": "display_data"
    }
   ],
   "source": [
    "plt.figure()\n",
    "plt.plot(x, y_tanh, 'b-', label='tanh')\n",
    "plt.legend()"
   ]
  },
  {
   "cell_type": "code",
   "execution_count": 10,
   "id": "b1bfa8b1",
   "metadata": {},
   "outputs": [
    {
     "data": {
      "text/plain": [
       "<matplotlib.legend.Legend at 0x28e553e7490>"
      ]
     },
     "execution_count": 10,
     "metadata": {},
     "output_type": "execute_result"
    },
    {
     "data": {
      "image/png": "[encoded data removed]",
      "text/plain": [
       "<Figure size 432x288 with 1 Axes>"
      ]
     },
     "metadata": {
      "needs_background": "light"
     },
     "output_type": "display_data"
    }
   ],
   "source": [
    "plt.figure()\n",
    "plt.plot(x, y_logsigmoid, 'b-', label='logsigmoid')\n",
    "plt.legend()"
   ]
  },
  {
   "cell_type": "code",
   "execution_count": 11,
   "id": "ffc3bb65",
   "metadata": {},
   "outputs": [
    {
     "data": {
      "text/plain": [
       "<matplotlib.legend.Legend at 0x28e5544da00>"
      ]
     },
     "execution_count": 11,
     "metadata": {},
     "output_type": "execute_result"
    },
    {
     "data": {
      "image/png": "[encoded data removed]",
      "text/plain": [
       "<Figure size 432x288 with 1 Axes>"
      ]
     },
     "metadata": {
      "needs_background": "light"
     },
     "output_type": "display_data"
    }
   ],
   "source": [
    "plt.figure()\n",
    "plt.plot(x, y_softplus, 'b-', label='softplus')\n",
    "plt.legend()"
   ]
  },
  {
   "cell_type": "markdown",
   "id": "0b66e7ae",
   "metadata": {},
   "source": [
    "## Recipe 4-3. Basic Neural Network Model"
   ]
  },
  {
   "cell_type": "code",
   "execution_count": 12,
   "id": "48f18ee9",
   "metadata": {},
   "outputs": [],
   "source": [
    "train_x = np.asarray([13.3, 14.4, 15.5, 16.71, 16.93, 14.168, 19.779,\n",
    "                      16.182, 17.59, 12.167, 17.042, 10.791, 15.313,\n",
    "                      17.997, 15.654, 19.27, 13.1])\n",
    "train_y = np.asarray([11.7, 12.76, 12.09, 13.19, 11.694, 11.573,\n",
    "                      13.366, 12.596, 12.53, 11.221, 12.827, 13.465,\n",
    "                      11.65, 12.904, 12.42, 12.94, 11.3])\n",
    "x = Variable(torch.from_numpy(train_x).type(torch.FloatTensor),\n",
    "             requires_grad=False).view(17, 1)\n",
    "y = Variable(torch.from_numpy(train_x).type(torch.FloatTensor),\n",
    "             requires_grad=False).view(17, 1)"
   ]
  },
  {
   "cell_type": "code",
   "execution_count": 13,
   "id": "4736bbbb",
   "metadata": {
    "scrolled": true
   },
   "outputs": [
    {
     "data": {
      "image/png": "[encoded data removed]",
      "text/plain": [
       "<Figure size 432x288 with 1 Axes>"
      ]
     },
     "metadata": {
      "needs_background": "light"
     },
     "output_type": "display_data"
    }
   ],
   "source": [
    "f = nn.Linear(1, 1)\n",
    "loss_fn = nn.MSELoss()\n",
    "optimizer = torch.optim.Adam(f.parameters(), lr=0.01)\n",
    "\n",
    "for epoch in range(5000):\n",
    "    y_pred = f(x)\n",
    "    loss = loss_fn(y_pred, y)\n",
    "    optimizer.zero_grad()\n",
    "    loss.backward()\n",
    "    optimizer.step()\n",
    "\n",
    "plt.figure()\n",
    "plt.scatter(x, y, c='r')\n",
    "plt.plot(x, y_pred.detach().numpy())\n",
    "plt.show()"
   ]
  },
  {
   "cell_type": "markdown",
   "id": "5d0bcf7f",
   "metadata": {},
   "source": [
    "## Recipe 4-4. Tensor Differentiation"
   ]
  },
  {
   "cell_type": "markdown",
   "id": "de88d102",
   "metadata": {},
   "source": [
    "`pass`"
   ]
  }
 ],
 "metadata": {
  "kernelspec": {
   "display_name": "pytorch",
   "language": "python",
   "name": "pytorch"
  },
  "language_info": {
   "codemirror_mode": {
    "name": "ipython",
    "version": 3
   },
   "file_extension": ".py",
   "mimetype": "text/x-python",
   "name": "python",
   "nbconvert_exporter": "python",
   "pygments_lexer": "ipython3",
   "version": "3.9.5"
  }
 },
 "nbformat": 4,
 "nbformat_minor": 5
}
