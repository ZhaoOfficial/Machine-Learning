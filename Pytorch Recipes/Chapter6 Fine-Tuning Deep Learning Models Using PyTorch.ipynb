{
 "cells": [
  {
   "cell_type": "markdown",
   "id": "6b179ec3",
   "metadata": {},
   "source": [
    "# CHAPTER 6\n",
    "**Fine-Tuning Deep Learning Models Using PyTorch**"
   ]
  },
  {
   "cell_type": "markdown",
   "id": "7b6ef3e5",
   "metadata": {},
   "source": [
    "## Recipe 6-1. Building Sequential Neural Networks"
   ]
  },
  {
   "cell_type": "markdown",
   "id": "1f0709ec",
   "metadata": {},
   "source": [
    "## Recipe 6-2. Deciding the Batch Size\n",
    "If the algorithm is back propagation, then online learning is better. For a deep and wide network model with various layers of back propagation and forward propagation, then batch training is better."
   ]
  },
  {
   "cell_type": "markdown",
   "id": "a63917ac",
   "metadata": {},
   "source": [
    "## Recipe 6-3. Deciding the Learning Rate"
   ]
  },
  {
   "cell_type": "markdown",
   "id": "50b6ff73",
   "metadata": {},
   "source": [
    "## Recipe 6-4. Performing Parallel Training"
   ]
  }
 ],
 "metadata": {
  "kernelspec": {
   "display_name": "pytorch",
   "language": "python",
   "name": "pytorch"
  },
  "language_info": {
   "codemirror_mode": {
    "name": "ipython",
    "version": 3
   },
   "file_extension": ".py",
   "mimetype": "text/x-python",
   "name": "python",
   "nbconvert_exporter": "python",
   "pygments_lexer": "ipython3",
   "version": "3.9.6"
  }
 },
 "nbformat": 4,
 "nbformat_minor": 5
}
